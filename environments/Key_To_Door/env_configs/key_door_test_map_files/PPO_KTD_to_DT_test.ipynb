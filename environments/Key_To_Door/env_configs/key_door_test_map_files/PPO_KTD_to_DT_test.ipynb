{
 "cells": [
  {
   "cell_type": "code",
   "execution_count": 1,
   "metadata": {},
   "outputs": [
    {
     "name": "stderr",
     "output_type": "stream",
     "text": [
      "/home/kurise/anaconda3/envs/mujoco_py/lib/python3.8/site-packages/tqdm/auto.py:21: TqdmWarning: IProgress not found. Please update jupyter and ipywidgets. See https://ipywidgets.readthedocs.io/en/stable/user_install.html\n",
      "  from .autonotebook import tqdm as notebook_tqdm\n"
     ]
    },
    {
     "data": {
      "text/plain": [
       "'cpu'"
      ]
     },
     "metadata": {},
     "output_type": "display_data"
    }
   ],
   "source": [
    "import numpy as np\n",
    "import torch\n",
    "import random\n",
    "import pickle\n",
    "from tqdm import tqdm\n",
    "\n",
    "device = \"cpu\"#torch.device('cuda' if torch.cuda.is_available() else 'cpu')\n",
    "display(device)\n",
    "\n",
    "import operator\n",
    "from transformers import DecisionTransformerConfig, DecisionTransformerModel\n",
    "from torch.utils.data import Dataset, DataLoader\n",
    "from sklearn.model_selection import train_test_split\n",
    "import wandb\n",
    "\n",
    "import torch\n",
    "import torch.nn as nn\n",
    "import torch.nn.functional as F\n",
    "import torch.optim as optim\n",
    "import numpy as np\n",
    "import time\n",
    "import itertools\n",
    "import matplotlib.pyplot as plt\n",
    "\n",
    "import sys\n",
    "sys.path.append('../key_door_env/')\n",
    "from key_door import key_door_env\n",
    "from key_door import visualisation_env\n",
    "from torch.optim.lr_scheduler import ReduceLROnPlateau"
   ]
  },
  {
   "cell_type": "code",
   "execution_count": 2,
   "metadata": {},
   "outputs": [],
   "source": [
    "class PPO_KTD_Dataset(Dataset):\n",
    "    def __init__(self, path, gamma):\n",
    "        with open(path, 'rb') as f:\n",
    "            self.data = pickle.load(f)\n",
    "            \n",
    "        self.width = self.data[0]['state'].shape[1]\n",
    "        self.gamma = gamma\n",
    "\n",
    "        self.std = torch.std(torch.cat([torch.from_numpy(self.data[traj]['state']).float() for traj in self.data]), dim=0) + 1e-6\n",
    "        self.mean = torch.mean(torch.cat([torch.from_numpy(self.data[traj]['state']).float() for traj in self.data]), dim=0)\n",
    "        self.std[2] = 1\n",
    "        self.mean[2] = 0\n",
    "        print(self.std)\n",
    "        print(self.mean)\n",
    "        \n",
    "    def discount_cumsum(self, x):\n",
    "        discount_cumsum = np.zeros_like(x)\n",
    "        discount_cumsum[-1] = x[-1]\n",
    "        for t in reversed(range(x.shape[0]-1)):\n",
    "            discount_cumsum[t] = x[t] + self.gamma * discount_cumsum[t+1]\n",
    "        return discount_cumsum\n",
    "\n",
    "    def __getitem__(self, index):\n",
    "        traj = self.data[index]\n",
    "        length = traj['state'].shape[0]\n",
    "        s = (torch.from_numpy(traj['state']).float() - self.mean) / self.std\n",
    "        #s[:, 3] = 0\n",
    "        # s = torch.from_numpy(traj['state']).float() \n",
    "        s = s.reshape(1, length, self.width)\n",
    "        a = torch.from_numpy(traj['action'])\n",
    "        b = torch.zeros((a.shape[0], 4))\n",
    "        \n",
    "        for i in range(a.shape[0]):\n",
    "            if a[i] == 0:\n",
    "                b[i] = torch.Tensor([1, 0, 0, 0])\n",
    "            elif a[i] == 1:\n",
    "                b[i] = torch.Tensor([0, 1, 0, 0])\n",
    "            elif a[i] == 2:\n",
    "                b[i] = torch.Tensor([0, 0, 1, 0])\n",
    "            elif a[i] == 3:\n",
    "                b[i] = torch.Tensor([0, 0, 0, 1])\n",
    "        \n",
    "        b = b.reshape(1, length, 4)\n",
    "                \n",
    "        # a = -0.5 * a + 0.5\n",
    "        #a = a.reshape(1, length, self.width)\n",
    "        rtg = torch.from_numpy(self.discount_cumsum(traj['reward']).reshape(1, length, 1))\n",
    "        d = torch.from_numpy(traj['done'].reshape(1, length, 1))\n",
    "        timesteps = torch.from_numpy(np.arange(0, length).reshape(1, -1, 1))\n",
    "\n",
    "        # Pad with zeros if length is less than 5000\n",
    "        if length < 100:\n",
    "            pad_length = 100 - length\n",
    "            s = F.pad(s, (0, 0, 0, pad_length, 0, 0), value=0)\n",
    "            # a = F.pad(a, (0, 0, 0, pad_length, 0, 0), value=0)\n",
    "            b = F.pad(b, (0, 0, 0, pad_length, 0, 0), value=0)\n",
    "            rtg = F.pad(rtg, (0, 0, 0, pad_length, 0, 0), value=0)\n",
    "            d = F.pad(d, (0, 0, 0, pad_length, 0, 0), value=0)\n",
    "            timesteps = F.pad(timesteps, (0, 0, 0, pad_length, 0, 0), value=0)\n",
    "\n",
    "        return s, b, rtg, d, timesteps\n",
    "\n",
    "    def __len__(self):\n",
    "        return len(self.data)"
   ]
  },
  {
   "cell_type": "code",
   "execution_count": 3,
   "metadata": {},
   "outputs": [
    {
     "name": "stdout",
     "output_type": "stream",
     "text": [
      "tensor([6.4097e+00, 1.4045e+00, 1.0000e+00, 1.0000e-06])\n",
      "tensor([9.5877, 2.7823, 0.0000, 0.0000])\n",
      "800\t200\t50\n"
     ]
    }
   ],
   "source": [
    "path = '../KTDData/dataKTD_mini_paper_successful_1k.pickle'\n",
    "dataset = PPO_KTD_Dataset(path, 0.99)\n",
    "train_dataset, val_dataset = train_test_split(dataset, test_size=0.2, random_state=42)\n",
    "_, test_dataset = train_test_split(val_dataset, test_size=0.25, random_state=42)\n",
    "print(len(train_dataset), len(val_dataset), len(test_dataset), sep='\\t')"
   ]
  },
  {
   "cell_type": "code",
   "execution_count": null,
   "metadata": {},
   "outputs": [],
   "source": []
  },
  {
   "cell_type": "code",
   "execution_count": 4,
   "metadata": {},
   "outputs": [
    {
     "name": "stderr",
     "output_type": "stream",
     "text": [
      "100%|██████████| 800/800 [00:01<00:00, 477.57it/s]\n",
      "100%|██████████| 200/200 [00:00<00:00, 936.49it/s] \n",
      "100%|██████████| 50/50 [00:00<00:00, 1002.21it/s]\n"
     ]
    },
    {
     "data": {
      "image/png": "[encoded data removed]",
      "text/plain": [
       "<Figure size 640x480 with 1 Axes>"
      ]
     },
     "metadata": {},
     "output_type": "display_data"
    }
   ],
   "source": [
    "mem_train = []\n",
    "for _, a, _, _, _ in tqdm(train_dataset):\n",
    "    for i in range(a.shape[1]):\n",
    "        mem_train.append(torch.argmax(a[:, i], dim=1).item())\n",
    "        \n",
    "mem_val = []\n",
    "for _, a, _, _, _ in tqdm(val_dataset):\n",
    "    for i in range(a.shape[1]):\n",
    "        mem_val.append(torch.argmax(a[:, i], dim=1).item())\n",
    "        \n",
    "mem_test = []\n",
    "for _, a, _, _, _ in tqdm(test_dataset):\n",
    "    for i in range(a.shape[1]):\n",
    "        mem_test.append(torch.argmax(a[:, i], dim=1).item())\n",
    "        \n",
    "plt.hist([mem_train, mem_val, mem_test], label=['Train', 'Validation', 'Test'], bins=4)\n",
    "plt.legend()\n",
    "plt.title(\"Ground Truth Actions\")\n",
    "\n",
    "# Add the legend as a caption\n",
    "plt.text(0.5, 0.8, '0: LEFT\\n1: UP\\n2: RIGHT\\n3: DOWN', ha='center', va='center', transform=plt.gca().transAxes)\n",
    "\n",
    "plt.show()"
   ]
  },
  {
   "cell_type": "code",
   "execution_count": 5,
   "metadata": {},
   "outputs": [],
   "source": [
    "lr = 1e-4\n",
    "num_epochs = 500\n",
    "patience = 20\n",
    "model_path = f'../models/PPO_KTD_to_DT_models/PPO_KTD_to_DT_1k_lr_{lr}_ep_{num_epochs}_pat_{patience}_mse_loss_2ch.pth'\n",
    "\n",
    "config = DecisionTransformerConfig(state_dim=4, act_dim=4, n_positions=100*3, max_ep_len=100)\n",
    "model = DecisionTransformerModel(config)#.to(device)\n",
    "model.load_state_dict(torch.load(model_path))\n",
    "model.to(\"cpu\")\n",
    "_ = model.eval()\n",
    "# test_dataloader = DataLoader(test_dataset, batch_size=10, shuffle=True)"
   ]
  },
  {
   "cell_type": "code",
   "execution_count": 6,
   "metadata": {},
   "outputs": [
    {
     "name": "stderr",
     "output_type": "stream",
     "text": [
      "  0%|          | 2/800 [00:00<00:42, 18.93it/s]"
     ]
    },
    {
     "name": "stderr",
     "output_type": "stream",
     "text": [
      "100%|██████████| 800/800 [00:14<00:00, 53.65it/s]\n",
      "100%|██████████| 200/200 [00:07<00:00, 25.19it/s]\n",
      "100%|██████████| 50/50 [00:02<00:00, 18.42it/s]\n"
     ]
    },
    {
     "data": {
      "image/png": "[encoded data removed]",
      "text/plain": [
       "<Figure size 640x480 with 1 Axes>"
      ]
     },
     "metadata": {},
     "output_type": "display_data"
    }
   ],
   "source": [
    "mem_train = []\n",
    "for s, a, rtg, d, timesteps in tqdm(train_dataset):\n",
    "    s = s.to(device=device, dtype=torch.float32).squeeze(1)\n",
    "    a = a.to(device=device, dtype=torch.float32).squeeze(1)\n",
    "    rtg = rtg.to(device=device, dtype=torch.float32).squeeze(1)\n",
    "    timesteps = timesteps.to(device=device, dtype=torch.long).squeeze()\n",
    "    \n",
    "    _, action_preds, _ = model(\n",
    "        states=s,\n",
    "        actions=a,\n",
    "        returns_to_go=rtg,\n",
    "        timesteps=timesteps,\n",
    "        return_dict=False,\n",
    "    )\n",
    "\n",
    "    for i in range(action_preds.shape[1]):\n",
    "        mem_train.append(torch.argmax(action_preds[:, i], dim=1).item())\n",
    "        \n",
    "\n",
    "mem_val = []\n",
    "for s, a, rtg, d, timesteps in tqdm(val_dataset):\n",
    "    s = s.to(device=device, dtype=torch.float32).squeeze(1)\n",
    "    a = a.to(device=device, dtype=torch.float32).squeeze(1)\n",
    "    rtg = rtg.to(device=device, dtype=torch.float32).squeeze(1)\n",
    "    timesteps = timesteps.to(device=device, dtype=torch.long).squeeze()\n",
    "    \n",
    "    _, action_preds, _ = model(\n",
    "        states=s,\n",
    "        actions=a,\n",
    "        returns_to_go=rtg,\n",
    "        timesteps=timesteps,\n",
    "        return_dict=False,\n",
    "    )\n",
    "\n",
    "    for i in range(action_preds.shape[1]):\n",
    "        mem_val.append(torch.argmax(action_preds[:, i], dim=1).item())\n",
    "        \n",
    "mem_test = []\n",
    "for s, a, rtg, d, timesteps in tqdm(test_dataset):\n",
    "    s = s.to(device=device, dtype=torch.float32).squeeze(1)\n",
    "    a = a.to(device=device, dtype=torch.float32).squeeze(1)\n",
    "    rtg = rtg.to(device=device, dtype=torch.float32).squeeze(1)\n",
    "    timesteps = timesteps.to(device=device, dtype=torch.long).squeeze()\n",
    "    \n",
    "    _, action_preds, _ = model(\n",
    "        states=s,\n",
    "        actions=a,\n",
    "        returns_to_go=rtg,\n",
    "        timesteps=timesteps,\n",
    "        return_dict=False,\n",
    "    )\n",
    "\n",
    "    for i in range(action_preds.shape[1]):\n",
    "        mem_test.append(torch.argmax(action_preds[:, i], dim=1).item())\n",
    "        \n",
    "plt.hist([mem_train, mem_val, mem_test], label=['Train', 'Validation', 'Test'], bins=4)\n",
    "plt.legend()\n",
    "plt.title(\"Predicted Actions\")\n",
    "\n",
    "# Add the legend as a caption\n",
    "plt.text(0.5, 0.8, '0: LEFT\\n1: UP\\n2: RIGHT\\n3: DOWN', ha='center', va='center', transform=plt.gca().transAxes)\n",
    "\n",
    "plt.show()        "
   ]
  },
  {
   "cell_type": "code",
   "execution_count": 34,
   "metadata": {},
   "outputs": [],
   "source": [
    "def pred_act(verbose=True, create_video=True):\n",
    "\n",
    "    map_ascii_path = '../key_door_env/tests/key_door_test_map_files/key_door_sample_map_mini_paper_2.txt'\n",
    "    map_yaml_path = '../key_door_env/tests/key_door_test_map_files/key_door_sample_map_mini_paper_2.yaml'\n",
    "    episode_timeout = 100\n",
    "\n",
    "    # Create environment\n",
    "    env = key_door_env.KeyDoorEnv(\n",
    "        map_ascii_path=map_ascii_path,\n",
    "        map_yaml_path=map_yaml_path,\n",
    "        representation=\"agent_position\",\n",
    "        episode_timeout=episode_timeout\n",
    "    )\n",
    "    \n",
    "    state = env.reset_environment(map_yaml_path=map_yaml_path)\n",
    "    # env.agent_position = (1, 9)\n",
    "    state = torch.Tensor(state).reshape(1, -1, 4)\n",
    "    state = (state - dataset.mean) / dataset.std\n",
    "    vector = np.zeros((1, 4))\n",
    "    random_index = np.random.randint(4)\n",
    "    vector[0, random_index] = 1\n",
    "    \n",
    "    act = torch.Tensor([[vector.tolist()[0]]])\n",
    "    if verbose:\n",
    "        print(\"Initial step:\", act)\n",
    "    done = False\n",
    "    timer = 0\n",
    "    s, a, rew, d = [], [], [], []\n",
    "    \n",
    "    \n",
    "    while not done:\n",
    "        if timer == 0:\n",
    "            rtg = torch.Tensor([[[1.]]]).to(dtype=torch.float32)\n",
    "            ts = torch.Tensor([[timer]]).to(dtype=torch.long)\n",
    "        else:\n",
    "            rtg = torch.cat((rtg, torch.Tensor([[[1.]]]).to(dtype=torch.float32)), dim=1)\n",
    "            ts = torch.cat((ts, torch.Tensor([[timer]]).to(dtype=torch.long)), dim=1)\n",
    "        \n",
    "        with torch.no_grad():\n",
    "            _, act_new, _ = model(\n",
    "                            states=state,\n",
    "                            actions=act,\n",
    "                            returns_to_go=rtg,\n",
    "                            timesteps=ts,\n",
    "                            return_dict=False,\n",
    "                            )\n",
    "        act_ans = torch.argmax(act_new[:, -1], dim=-1).item()\n",
    "        \n",
    "        \n",
    "        # if 1 >= act_new[:,-1].item() >= 0.75:\n",
    "        #     act_ans = 3\n",
    "        # elif 0.75 > act_new[:,-1].item() >= 0.5:\n",
    "        #     act_ans = 2\n",
    "        # elif -0.5 >= act_new[:,-1].item() > -0.75:\n",
    "        #     act_ans = 1\n",
    "        # elif -0.75 >= act_new[:,-1].item() >= -1.0:\n",
    "        #     act_ans = 0\n",
    "        \n",
    "        reward, next_state = env.step(act_ans)\n",
    "        \n",
    "        #print('\\n', np.round(act_new[:,-1], 2), act_ans, state[:, -1], reward)\n",
    "        # print(f\"\\rCurrent timer value: {timer} / {episode_timeout}, {act_new[:,-1].item():.2f}, act: {act_ans}, state: {next_state}\", end=\"\")\n",
    "        if verbose:\n",
    "            print(f\"\\rCurrent timer value: {timer} / {episode_timeout}, {act_new[:,-1][0]}, act: {act_ans}, state: {next_state}\", end=\"\")\n",
    "        \n",
    "        done = not env._remain_active(reward)\n",
    "        if timer == episode_timeout // 3:\n",
    "            env.agent_position = (11,2) #(17,2), (6,2)\n",
    "        elif timer == 2 * episode_timeout // 3:\n",
    "            env.agent_position = (20,5)\n",
    "        \n",
    "        s.append(state)\n",
    "        a.append(act_ans)\n",
    "        rew.append(reward)\n",
    "        d.append(done)\n",
    "        state = torch.cat((state, (torch.Tensor([[next_state]]) - dataset.mean) / dataset.std), dim=1)\n",
    "        act = torch.cat((act, act_new[:, -1].unsqueeze(1)), dim=1)\n",
    "        \n",
    "        timer += 1\n",
    "        \n",
    "        if done:\n",
    "            #s = np.concatenate([s[i] for i in range(len(s))], axis=1).reshape(-1, 3)\n",
    "            s = state.detach().cpu().numpy().reshape(-1,4)[0:-1]\n",
    "            a = np.array(a)\n",
    "            rew = np.array(rew)\n",
    "            d = np.array(d)\n",
    "        \n",
    "        last_rew = reward\n",
    "        \n",
    "    if verbose:\n",
    "        print(\"\\nThe process ended with a reward of {} at time {}\".format(reward, timer))\n",
    "    if create_video:\n",
    "        print(\"Creating video...\")\n",
    "        history = env._train_episode_history\n",
    "        env = visualisation_env.VisualisationEnv(env)\n",
    "        env.visualise_episode_history(f'../Key_to_Door/results/DT/PPO_KTD_to_DT_1k.mp4', history)\n",
    "        print(\"Video created.\")\n",
    "    \n",
    "    return s, a, rtg, d, last_rew"
   ]
  },
  {
   "cell_type": "code",
   "execution_count": 35,
   "metadata": {},
   "outputs": [
    {
     "name": "stdout",
     "output_type": "stream",
     "text": [
      "Initial step: tensor([[[0., 0., 1., 0.]]])\n",
      "Current timer value: 73 / 100, tensor([0.6651, 0.0926, 0.0912, 0.1511]), act: 0, state: (17, 1, 1, 1)\n",
      "The process ended with a reward of 1.0 at time 74\n",
      "Creating video...\n",
      "Video created.\n"
     ]
    }
   ],
   "source": [
    "s, a, rtg, d, last_rew = pred_act(verbose=True, create_video=True)"
   ]
  },
  {
   "cell_type": "code",
   "execution_count": 36,
   "metadata": {},
   "outputs": [
    {
     "name": "stderr",
     "output_type": "stream",
     "text": [
      "100%|██████████| 100/100 [00:39<00:00,  2.51it/s]"
     ]
    },
    {
     "name": "stdout",
     "output_type": "stream",
     "text": [
      "Succes rate: 1.0\n"
     ]
    },
    {
     "name": "stderr",
     "output_type": "stream",
     "text": [
      "\n"
     ]
    }
   ],
   "source": [
    "num_samples = 100\n",
    "goods = 0\n",
    "bads = 0\n",
    "for i in tqdm(range(num_samples)):\n",
    "    s, a, rtg, d, last_rew = pred_act(verbose=False, create_video=False)\n",
    "    if last_rew == 1:\n",
    "        goods += 1\n",
    "    else:\n",
    "        bads += 1\n",
    "        \n",
    "print(\"Succes rate:\", goods / (goods + bads))"
   ]
  },
  {
   "cell_type": "code",
   "execution_count": null,
   "metadata": {},
   "outputs": [],
   "source": []
  }
 ],
 "metadata": {
  "kernelspec": {
   "display_name": "mujoco_py",
   "language": "python",
   "name": "python3"
  },
  "language_info": {
   "codemirror_mode": {
    "name": "ipython",
    "version": 3
   },
   "file_extension": ".py",
   "mimetype": "text/x-python",
   "name": "python",
   "nbconvert_exporter": "python",
   "pygments_lexer": "ipython3",
   "version": "3.8.17"
  },
  "orig_nbformat": 4
 },
 "nbformat": 4,
 "nbformat_minor": 2
}
