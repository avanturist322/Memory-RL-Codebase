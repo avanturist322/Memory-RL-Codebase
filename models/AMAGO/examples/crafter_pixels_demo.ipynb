{
 "cells": [
  {
   "cell_type": "markdown",
   "id": "ddc14e4b-e137-481f-9c50-71f6e5301790",
   "metadata": {},
   "source": [
    "## Pretrained Crafter Gameplay Demos\n",
    "\n",
    "This demo notebook loads pretrained weights for a **pixel-based** Crafter agent and replays gameplay videos for user-specified instructions."
   ]
  },
  {
   "cell_type": "code",
   "execution_count": 1,
   "id": "3f790d76-bea3-4c4c-9c26-ea85505801ec",
   "metadata": {},
   "outputs": [],
   "source": [
    "# Specify GPU device index for policy inference\n",
    "GPU = 0"
   ]
  },
  {
   "cell_type": "code",
   "execution_count": 2,
   "id": "2463fe3f-09d7-47f7-beac-db892f0630e0",
   "metadata": {},
   "outputs": [],
   "source": [
    "import random\n",
    "import os\n",
    "import glob\n",
    "import warnings\n",
    "\n",
    "import requests\n",
    "from IPython.display import Video, HTML\n",
    "import torch\n",
    "\n",
    "crafter_example = __import__(\"07_crafter_with_instructions\")\n",
    "import amago\n",
    "from amago.cli_utils import *\n",
    "from amago.envs.builtin.crafter_envs import CrafterEnv"
   ]
  },
  {
   "cell_type": "markdown",
   "id": "c36d0de2-313b-4f9d-ba47-ea281a995976",
   "metadata": {},
   "source": [
    "#### Step 1: Initialize a new agent with the correct architecture"
   ]
  },
  {
   "cell_type": "code",
   "execution_count": 3,
   "id": "92b263e9-8fd3-4e30-b04f-f461fef33626",
   "metadata": {},
   "outputs": [
    {
     "name": "stdout",
     "output_type": "stream",
     "text": [
      "\n",
      "\n",
      " \t\t AMAGO\n",
      "        \t -------------------------\n",
      "        \t Environment Horizon: 2500\n",
      "        \t Policy Max Sequence Length: 512\n",
      "        \t Trajectory File Sequence Length: 2501\n",
      "        \t Mode: Fixed Context with Valid Relabeling (Approximate Meta-RL / POMDPs)\n",
      "        \t Half Precision: False\n",
      "        \t Fast Inference: True\n",
      "        \t Total Parameters: 6,517,894 \n",
      "\n",
      "\n"
     ]
    }
   ],
   "source": [
    "# boilerplate to imitate training script command line interface\n",
    "parser = ArgumentParser()\n",
    "add_common_cli(parser)\n",
    "args = parser.parse_args([\"--run_name=crafter_dec23\", \"--buffer_dir=crafter_pretrained_example\"])\n",
    "args.no_log = True\n",
    "args.gpu = GPU\n",
    "\n",
    "config = {\n",
    "    \"amago.agent.Agent.reward_multiplier\" : 10.,\n",
    "    \"amago.agent.Agent.tstep_encoder_Cls\" : partial(crafter_example.CrafterTstepEncoder, obs_kind=\"crop\"),\n",
    "    \"amago.nets.tstep_encoders.TstepEncoder.goal_emb_Cls\" : amago.nets.goal_embedders.TokenGoalEmb,\n",
    "    \"amago.nets.goal_embedders.TokenGoalEmb.zero_embedding\" : False,\n",
    "    \"amago.nets.goal_embedders.TokenGoalEmb.goal_emb_dim\" : 64,\n",
    "}\n",
    "\n",
    "switch_traj_encoder(config, arch=\"transformer\", memory_size=256, layers=3)\n",
    "use_config(config, args.configs, finalize=False)\n",
    "\n",
    "make_env = lambda: CrafterEnv(\n",
    "        directed=True,\n",
    "        k=5,\n",
    "        min_k=1,\n",
    "        time_limit=2500,\n",
    "        obs_kind=\"crop\",\n",
    "        use_tech_tree=False,\n",
    "        save_video_to=\"crafter_notebook_videos/\",\n",
    ")\n",
    "\n",
    "group_name = f\"crafter_dec23_directed_crafter_crop\"\n",
    "run_name = group_name + \"_trial_0\"\n",
    "experiment = create_experiment_from_cli(\n",
    "            args,\n",
    "            make_train_env=make_env,\n",
    "            make_val_env=make_env,\n",
    "            max_seq_len=512,\n",
    "            traj_save_len=2501,\n",
    "            stagger_traj_file_lengths=False,\n",
    "            run_name=run_name,\n",
    "            group_name=group_name,\n",
    "            batch_size=18,\n",
    "            val_timesteps_per_epoch=5000,\n",
    "            relabel=\"some\",\n",
    "            goal_importance_sampling=True,\n",
    "        )\n",
    "\n",
    "# build the agent with randomly initialized weights. This is a smaller architecture than used in the main results\n",
    "experiment.start()"
   ]
  },
  {
   "cell_type": "markdown",
   "id": "5f267556-9b0e-4bcf-87a3-d22216807f31",
   "metadata": {},
   "source": [
    "#### Step 2: Download and replace parameters with pretrained checkpoint"
   ]
  },
  {
   "cell_type": "code",
   "execution_count": 4,
   "id": "ced17261-6be3-4629-934b-0579093c2edc",
   "metadata": {},
   "outputs": [
    {
     "data": {
      "text/plain": [
       "_IncompatibleKeys(missing_keys=['maximized_critics.inp_layer.weight', 'maximized_critics.inp_layer.bias', 'maximized_critics.core_layers.0.weight', 'maximized_critics.core_layers.0.bias', 'maximized_critics.output_layer.weight', 'maximized_critics.output_layer.bias'], unexpected_keys=[])"
      ]
     },
     "execution_count": 4,
     "metadata": {},
     "output_type": "execute_result"
    }
   ],
   "source": [
    "# checkpoint from long pixel-based training run that closely reproduces Appendix C5 Table 2 using the public repo\n",
    "ckpt_link = \"https://utexas.box.com/shared/static/xvkgo02vkp8kn7j80051jbr6224tep9r.pt\"\n",
    "response = requests.get(ckpt_link)\n",
    "\n",
    "# write file to the expected name and location based on this experiment's configuration (above).\n",
    "with open(os.path.join(\"crafter_pretrained_example\", run_name, \"ckpts\", \"crafter_dec23_directed_crafter_crop_trial_0_BEST.pt\"), \"wb\") as f:\n",
    "    f.write(response.content)\n",
    "\n",
    "# load checkpoint\n",
    "# you would normally load the best checkpoint like this:\n",
    "# experiment.load_checkpoint(loading_best=True)\n",
    "# manual workaround for backwards-compatible old checkpoint\n",
    "ckpt = torch.load(os.path.join(experiment.ckpt_dir, f\"{experiment.run_name}_BEST.pt\"), map_location=experiment.DEVICE)\n",
    "experiment.policy.load_state_dict(ckpt[\"model_state\"], strict=False)"
   ]
  },
  {
   "cell_type": "markdown",
   "id": "7e9abcdb-9f07-42b2-b37b-96bb51ab928b",
   "metadata": {},
   "source": [
    "#### Step 3: Evaluate and visualize"
   ]
  },
  {
   "cell_type": "code",
   "execution_count": 5,
   "id": "321c1f1e-5d56-4afc-928a-c79def465e59",
   "metadata": {},
   "outputs": [],
   "source": [
    "# Specify the task here! A list of any of up to 5 of the crafter achievements with _ separators. For example:\n",
    "TASK = [\"make_stone_pickaxe\", \"collect_coal\", \"travel_40m_40m\", \"place_stone\"]"
   ]
  },
  {
   "cell_type": "code",
   "execution_count": 6,
   "id": "7a012443-8717-478d-977a-c479cefcc4e7",
   "metadata": {},
   "outputs": [
    {
     "name": "stderr",
     "output_type": "stream",
     "text": [
      "Env Interaction:   0%|\u001b[33m                                                                                                \u001b[0m| 0/3500 [00:00<?, ?it/s]\u001b[0m/home/jake/anaconda3/envs/amagoos/lib/python3.10/site-packages/gym/core.py:43: DeprecationWarning: \u001b[33mWARN: The argument mode in render method is deprecated; use render_mode during environment initialization instead.\n",
      "See here for more information: https://www.gymlibrary.ml/content/api/\u001b[0m\n",
      "  deprecation(\n",
      "/home/jake/anaconda3/envs/amagoos/lib/python3.10/site-packages/gym/core.py:43: DeprecationWarning: \u001b[33mWARN: The argument mode in render method is deprecated; use render_mode during environment initialization instead.\n",
      "See here for more information: https://www.gymlibrary.ml/content/api/\u001b[0m\n",
      "  deprecation(\n",
      "/home/jake/anaconda3/envs/amagoos/lib/python3.10/site-packages/gym/core.py:43: DeprecationWarning: \u001b[33mWARN: The argument mode in render method is deprecated; use render_mode during environment initialization instead.\n",
      "See here for more information: https://www.gymlibrary.ml/content/api/\u001b[0m\n",
      "  deprecation(\n",
      "/home/jake/anaconda3/envs/amagoos/lib/python3.10/site-packages/gym/core.py:43: DeprecationWarning: \u001b[33mWARN: The argument mode in render method is deprecated; use render_mode during environment initialization instead.\n",
      "See here for more information: https://www.gymlibrary.ml/content/api/\u001b[0m\n",
      "  deprecation(\n",
      "/home/jake/anaconda3/envs/amagoos/lib/python3.10/site-packages/gym/core.py:43: DeprecationWarning: \u001b[33mWARN: The argument mode in render method is deprecated; use render_mode during environment initialization instead.\n",
      "See here for more information: https://www.gymlibrary.ml/content/api/\u001b[0m\n",
      "  deprecation(\n",
      "/home/jake/anaconda3/envs/amagoos/lib/python3.10/site-packages/gym/core.py:43: DeprecationWarning: \u001b[33mWARN: The argument mode in render method is deprecated; use render_mode during environment initialization instead.\n",
      "See here for more information: https://www.gymlibrary.ml/content/api/\u001b[0m\n",
      "  deprecation(\n",
      "                                                                                                                                               7.06it/s]\u001b[0m\r"
     ]
    },
    {
     "name": "stdout",
     "output_type": "stream",
     "text": [
      "\n",
      "\n",
      "Task \"make_stone_pickaxe, collect_coal, travel_40m_40m, place_stone\" Success Rate:  58.0%\n"
     ]
    }
   ],
   "source": [
    "# reset video directory for a new task\n",
    "files = glob.glob('crafter_notebook_videos/*')\n",
    "for f in files:\n",
    "    os.remove(f)\n",
    "\n",
    "def make_eval_env():\n",
    "    e = make_env()\n",
    "    e.set_env_name(f\"crafter_eval\")\n",
    "    # manually set the task\n",
    "    e.set_fixed_task([t.split(\"_\") for t in TASK])\n",
    "    return e\n",
    "\n",
    "experiment.parallel_actors = 6 # adjust as needed!\n",
    "\n",
    "# runs the evaluation and saves videos to disk\n",
    "warnings.filterwarnings(\"ignore\", category=UserWarning)\n",
    "success = experiment.evaluate_test(make_eval_env, timesteps=3500, render=False)[\"Average Success Rate in crafter_eval\"]\n",
    "print(f\"\\n\\nTask \\\"{', '.join(TASK)}\\\" Success Rate: {success * 100 : .1f}%\")"
   ]
  },
  {
   "cell_type": "code",
   "execution_count": 7,
   "id": "54cb54a6-4d13-40c0-8035-01a72863ca5a",
   "metadata": {},
   "outputs": [
    {
     "data": {
      "text/html": [
       "<table><caption style='font-size: 24px'>make_stone_pickaxe, collect_coal, travel_40m_40m, place_stone</caption><tr>\n",
       "    <td>\n",
       "        <video width=300px alt=\"Video\" controls>\n",
       "            <source src=\"crafter_notebook_videos/20240213T211855-achNone-len55.mp4\" type=\"video/mp4\">\n",
       "        </video>\n",
       "    </td>\n",
       "    \n",
       "    <td>\n",
       "        <video width=300px alt=\"Video\" controls>\n",
       "            <source src=\"crafter_notebook_videos/20240213T211659-ach9-len164.mp4\" type=\"video/mp4\">\n",
       "        </video>\n",
       "    </td>\n",
       "    \n",
       "    <td>\n",
       "        <video width=300px alt=\"Video\" controls>\n",
       "            <source src=\"crafter_notebook_videos/20240213T211624-ach6-len203.mp4\" type=\"video/mp4\">\n",
       "        </video>\n",
       "    </td>\n",
       "    \n",
       "    <td>\n",
       "        <video width=300px alt=\"Video\" controls>\n",
       "            <source src=\"crafter_notebook_videos/20240213T211601-ach6-len186.mp4\" type=\"video/mp4\">\n",
       "        </video>\n",
       "    </td>\n",
       "    </tr><tr>\n",
       "    <td>\n",
       "        <video width=300px alt=\"Video\" controls>\n",
       "            <source src=\"crafter_notebook_videos/20240213T211428-ach6-len162.mp4\" type=\"video/mp4\">\n",
       "        </video>\n",
       "    </td>\n",
       "    \n",
       "    <td>\n",
       "        <video width=300px alt=\"Video\" controls>\n",
       "            <source src=\"crafter_notebook_videos/20240213T211859-ach8-len178.mp4\" type=\"video/mp4\">\n",
       "        </video>\n",
       "    </td>\n",
       "    \n",
       "    <td>\n",
       "        <video width=300px alt=\"Video\" controls>\n",
       "            <source src=\"crafter_notebook_videos/20240213T211604-ach6-len172.mp4\" type=\"video/mp4\">\n",
       "        </video>\n",
       "    </td>\n",
       "    \n",
       "    <td>\n",
       "        <video width=300px alt=\"Video\" controls>\n",
       "            <source src=\"crafter_notebook_videos/20240213T212035-achNone-len163.mp4\" type=\"video/mp4\">\n",
       "        </video>\n",
       "    </td>\n",
       "    </tr><tr></tr></table>"
      ],
      "text/plain": [
       "<IPython.core.display.HTML object>"
      ]
     },
     "execution_count": 7,
     "metadata": {},
     "output_type": "execute_result"
    }
   ],
   "source": [
    "# display gameplay videos in the notebook; run again for a new random sample\n",
    "MAX_VIDEOS = 8\n",
    "videos = glob.glob(\"crafter_notebook_videos/*\")\n",
    "random.shuffle(videos)\n",
    "html_str = f\"<table><caption style='font-size: 24px'>{', '.join(TASK)}</caption><tr>\"\n",
    "for i, video_path in enumerate(videos):\n",
    "    video_html = f\"\"\"\n",
    "    <td>\n",
    "        <video width=300px alt=\"Video\" controls>\n",
    "            <source src=\"{video_path}\" type=\"video/mp4\">\n",
    "        </video>\n",
    "    </td>\n",
    "    \"\"\"\n",
    "    html_str += video_html\n",
    "    if (i + 1) % 4 == 0:\n",
    "        html_str += \"</tr><tr>\"\n",
    "    if i >= MAX_VIDEOS - 1:\n",
    "        break\n",
    "html_str += \"</tr></table>\"\n",
    "HTML(html_str)"
   ]
  }
 ],
 "metadata": {
  "kernelspec": {
   "display_name": "Python 3 (ipykernel)",
   "language": "python",
   "name": "python3"
  },
  "language_info": {
   "codemirror_mode": {
    "name": "ipython",
    "version": 3
   },
   "file_extension": ".py",
   "mimetype": "text/x-python",
   "name": "python",
   "nbconvert_exporter": "python",
   "pygments_lexer": "ipython3",
   "version": "3.10.0"
  }
 },
 "nbformat": 4,
 "nbformat_minor": 5
}
