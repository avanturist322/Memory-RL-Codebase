{
 "cells": [
  {
   "cell_type": "markdown",
   "id": "ddc14e4b-e137-481f-9c50-71f6e5301790",
   "metadata": {},
   "source": [
    "## Pretrained Crafter Gameplay Demos\n",
    "\n",
    "This demo notebook loads pretrained weights for a **pixel-based** Crafter agent and replays gameplay videos for user-specified instructions."
   ]
  },
  {
   "cell_type": "code",
   "execution_count": 1,
   "id": "3f790d76-bea3-4c4c-9c26-ea85505801ec",
   "metadata": {},
   "outputs": [],
   "source": [
    "# Specify GPU device index for policy inference\n",
    "GPU = 0"
   ]
  },
  {
   "cell_type": "code",
   "execution_count": 4,
   "id": "2463fe3f-09d7-47f7-beac-db892f0630e0",
   "metadata": {},
   "outputs": [],
   "source": [
    "import random\n",
    "import os\n",
    "import glob\n",
    "import warnings\n",
    "\n",
    "import requests\n",
    "from IPython.display import Video, HTML\n",
    "import torch\n",
    "\n",
    "popgym_example = __import__(\"02_popgym_suite\")\n",
    "import amago\n",
    "from amago.cli_utils import *\n",
    "from amago.envs.builtin.gym_envs import POPGymEnv"
   ]
  },
  {
   "cell_type": "markdown",
   "id": "c36d0de2-313b-4f9d-ba47-ea281a995976",
   "metadata": {},
   "source": [
    "#### Step 1: Initialize a new agent with the correct architecture"
   ]
  },
  {
   "cell_type": "code",
   "execution_count": 8,
   "id": "92b263e9-8fd3-4e30-b04f-f461fef33626",
   "metadata": {},
   "outputs": [
    {
     "ename": "TypeError",
     "evalue": "switch_tstep_encoder() missing 2 required positional arguments: 'config' and 'arch'\n  In call to configurable 'Agent' (<class 'amago.agent.Agent'>)",
     "output_type": "error",
     "traceback": [
      "\u001b[0;31m---------------------------------------------------------------------------\u001b[0m",
      "\u001b[0;31mTypeError\u001b[0m                                 Traceback (most recent call last)",
      "Cell \u001b[0;32mIn[8], line 41\u001b[0m\n\u001b[1;32m     25\u001b[0m experiment \u001b[38;5;241m=\u001b[39m create_experiment_from_cli(\n\u001b[1;32m     26\u001b[0m             args,\n\u001b[1;32m     27\u001b[0m             make_train_env\u001b[38;5;241m=\u001b[39mmake_env,\n\u001b[0;32m   (...)\u001b[0m\n\u001b[1;32m     37\u001b[0m             goal_importance_sampling\u001b[38;5;241m=\u001b[39m\u001b[38;5;28;01mTrue\u001b[39;00m,\n\u001b[1;32m     38\u001b[0m         )\n\u001b[1;32m     40\u001b[0m \u001b[38;5;66;03m# build the agent with randomly initialized weights. This is a smaller architecture than used in the main results\u001b[39;00m\n\u001b[0;32m---> 41\u001b[0m \u001b[43mexperiment\u001b[49m\u001b[38;5;241;43m.\u001b[39;49m\u001b[43mstart\u001b[49m\u001b[43m(\u001b[49m\u001b[43m)\u001b[49m\n",
      "File \u001b[0;32m~/Egor_C/REPOSITORIES/Memory-RL-Codebase/models/amago/amago/learning.py:101\u001b[0m, in \u001b[0;36mExperiment.start\u001b[0;34m(self)\u001b[0m\n\u001b[1;32m     99\u001b[0m \u001b[38;5;28mself\u001b[39m\u001b[38;5;241m.\u001b[39minit_dsets()\n\u001b[1;32m    100\u001b[0m \u001b[38;5;28mself\u001b[39m\u001b[38;5;241m.\u001b[39minit_dloaders()\n\u001b[0;32m--> 101\u001b[0m \u001b[38;5;28;43mself\u001b[39;49m\u001b[38;5;241;43m.\u001b[39;49m\u001b[43minit_model\u001b[49m\u001b[43m(\u001b[49m\u001b[43m)\u001b[49m\n\u001b[1;32m    102\u001b[0m \u001b[38;5;28mself\u001b[39m\u001b[38;5;241m.\u001b[39minit_optimizer()\n\u001b[1;32m    103\u001b[0m \u001b[38;5;28mself\u001b[39m\u001b[38;5;241m.\u001b[39minit_checkpoints()\n",
      "File \u001b[0;32m~/Egor_C/REPOSITORIES/Memory-RL-Codebase/models/amago/amago/learning.py:323\u001b[0m, in \u001b[0;36mExperiment.init_model\u001b[0;34m(self)\u001b[0m\n\u001b[1;32m    314\u001b[0m \u001b[38;5;28;01mdef\u001b[39;00m \u001b[38;5;21minit_model\u001b[39m(\u001b[38;5;28mself\u001b[39m):\n\u001b[1;32m    315\u001b[0m     policy_kwargs \u001b[38;5;241m=\u001b[39m {\n\u001b[1;32m    316\u001b[0m         \u001b[38;5;124m\"\u001b[39m\u001b[38;5;124mobs_space\u001b[39m\u001b[38;5;124m\"\u001b[39m: \u001b[38;5;28mself\u001b[39m\u001b[38;5;241m.\u001b[39mgcrl2_space[\u001b[38;5;124m\"\u001b[39m\u001b[38;5;124mobs\u001b[39m\u001b[38;5;124m\"\u001b[39m],\n\u001b[1;32m    317\u001b[0m         \u001b[38;5;124m\"\u001b[39m\u001b[38;5;124mgoal_space\u001b[39m\u001b[38;5;124m\"\u001b[39m: \u001b[38;5;28mself\u001b[39m\u001b[38;5;241m.\u001b[39mgcrl2_space[\u001b[38;5;124m\"\u001b[39m\u001b[38;5;124mgoal\u001b[39m\u001b[38;5;124m\"\u001b[39m],\n\u001b[0;32m   (...)\u001b[0m\n\u001b[1;32m    321\u001b[0m         \u001b[38;5;124m\"\u001b[39m\u001b[38;5;124mhorizon\u001b[39m\u001b[38;5;124m\"\u001b[39m: \u001b[38;5;28mself\u001b[39m\u001b[38;5;241m.\u001b[39mhorizon,\n\u001b[1;32m    322\u001b[0m     }\n\u001b[0;32m--> 323\u001b[0m     \u001b[38;5;28mself\u001b[39m\u001b[38;5;241m.\u001b[39mpolicy \u001b[38;5;241m=\u001b[39m \u001b[38;5;28;43mself\u001b[39;49m\u001b[38;5;241;43m.\u001b[39;49m\u001b[43magent_Cls\u001b[49m\u001b[43m(\u001b[49m\u001b[38;5;241;43m*\u001b[39;49m\u001b[38;5;241;43m*\u001b[39;49m\u001b[43mpolicy_kwargs\u001b[49m\u001b[43m)\u001b[49m\n\u001b[1;32m    324\u001b[0m     \u001b[38;5;28;01massert\u001b[39;00m \u001b[38;5;28misinstance\u001b[39m(\u001b[38;5;28mself\u001b[39m\u001b[38;5;241m.\u001b[39mpolicy, Agent)\n\u001b[1;32m    325\u001b[0m     \u001b[38;5;28mself\u001b[39m\u001b[38;5;241m.\u001b[39mpolicy\u001b[38;5;241m.\u001b[39mto(\u001b[38;5;28mself\u001b[39m\u001b[38;5;241m.\u001b[39mDEVICE)\n",
      "File \u001b[0;32m~/.local/lib/python3.10/site-packages/gin/config.py:1605\u001b[0m, in \u001b[0;36m_make_gin_wrapper.<locals>.gin_wrapper\u001b[0;34m(*args, **kwargs)\u001b[0m\n\u001b[1;32m   1603\u001b[0m scope_info \u001b[38;5;241m=\u001b[39m \u001b[38;5;124m\"\u001b[39m\u001b[38;5;124m in scope \u001b[39m\u001b[38;5;124m'\u001b[39m\u001b[38;5;132;01m{}\u001b[39;00m\u001b[38;5;124m'\u001b[39m\u001b[38;5;124m\"\u001b[39m\u001b[38;5;241m.\u001b[39mformat(scope_str) \u001b[38;5;28;01mif\u001b[39;00m scope_str \u001b[38;5;28;01melse\u001b[39;00m \u001b[38;5;124m'\u001b[39m\u001b[38;5;124m'\u001b[39m\n\u001b[1;32m   1604\u001b[0m err_str \u001b[38;5;241m=\u001b[39m err_str\u001b[38;5;241m.\u001b[39mformat(name, fn_or_cls, scope_info)\n\u001b[0;32m-> 1605\u001b[0m \u001b[43mutils\u001b[49m\u001b[38;5;241;43m.\u001b[39;49m\u001b[43maugment_exception_message_and_reraise\u001b[49m\u001b[43m(\u001b[49m\u001b[43me\u001b[49m\u001b[43m,\u001b[49m\u001b[43m \u001b[49m\u001b[43merr_str\u001b[49m\u001b[43m)\u001b[49m\n",
      "File \u001b[0;32m~/.local/lib/python3.10/site-packages/gin/utils.py:41\u001b[0m, in \u001b[0;36maugment_exception_message_and_reraise\u001b[0;34m(exception, message)\u001b[0m\n\u001b[1;32m     39\u001b[0m proxy \u001b[38;5;241m=\u001b[39m ExceptionProxy()\n\u001b[1;32m     40\u001b[0m ExceptionProxy\u001b[38;5;241m.\u001b[39m\u001b[38;5;18m__qualname__\u001b[39m \u001b[38;5;241m=\u001b[39m \u001b[38;5;28mtype\u001b[39m(exception)\u001b[38;5;241m.\u001b[39m\u001b[38;5;18m__qualname__\u001b[39m\n\u001b[0;32m---> 41\u001b[0m \u001b[38;5;28;01mraise\u001b[39;00m proxy\u001b[38;5;241m.\u001b[39mwith_traceback(exception\u001b[38;5;241m.\u001b[39m__traceback__) \u001b[38;5;28;01mfrom\u001b[39;00m \u001b[38;5;28;01mNone\u001b[39;00m\n",
      "File \u001b[0;32m~/.local/lib/python3.10/site-packages/gin/config.py:1582\u001b[0m, in \u001b[0;36m_make_gin_wrapper.<locals>.gin_wrapper\u001b[0;34m(*args, **kwargs)\u001b[0m\n\u001b[1;32m   1579\u001b[0m new_kwargs\u001b[38;5;241m.\u001b[39mupdate(kwargs)\n\u001b[1;32m   1581\u001b[0m \u001b[38;5;28;01mtry\u001b[39;00m:\n\u001b[0;32m-> 1582\u001b[0m   \u001b[38;5;28;01mreturn\u001b[39;00m \u001b[43mfn\u001b[49m\u001b[43m(\u001b[49m\u001b[38;5;241;43m*\u001b[39;49m\u001b[43mnew_args\u001b[49m\u001b[43m,\u001b[49m\u001b[43m \u001b[49m\u001b[38;5;241;43m*\u001b[39;49m\u001b[38;5;241;43m*\u001b[39;49m\u001b[43mnew_kwargs\u001b[49m\u001b[43m)\u001b[49m\n\u001b[1;32m   1583\u001b[0m \u001b[38;5;28;01mexcept\u001b[39;00m \u001b[38;5;167;01mException\u001b[39;00m \u001b[38;5;28;01mas\u001b[39;00m e:  \u001b[38;5;66;03m# pylint: disable=broad-except\u001b[39;00m\n\u001b[1;32m   1584\u001b[0m   err_str \u001b[38;5;241m=\u001b[39m \u001b[38;5;124m'\u001b[39m\u001b[38;5;124m'\u001b[39m\n",
      "File \u001b[0;32m~/Egor_C/REPOSITORIES/Memory-RL-Codebase/models/amago/amago/agent.py:82\u001b[0m, in \u001b[0;36mAgent.__init__\u001b[0;34m(self, obs_space, goal_space, rl2_space, action_space, max_seq_len, horizon, tstep_encoder_Cls, traj_encoder_Cls, num_critics, num_critics_td, online_coeff, offline_coeff, gamma, reward_multiplier, tau, fake_filter, popart, use_target_actor, use_multigamma)\u001b[0m\n\u001b[1;32m     79\u001b[0m \u001b[38;5;28mself\u001b[39m\u001b[38;5;241m.\u001b[39muse_target_actor \u001b[38;5;241m=\u001b[39m use_target_actor\n\u001b[1;32m     80\u001b[0m \u001b[38;5;28mself\u001b[39m\u001b[38;5;241m.\u001b[39mmax_seq_len \u001b[38;5;241m=\u001b[39m max_seq_len\n\u001b[0;32m---> 82\u001b[0m \u001b[38;5;28mself\u001b[39m\u001b[38;5;241m.\u001b[39mtstep_encoder \u001b[38;5;241m=\u001b[39m \u001b[43mtstep_encoder_Cls\u001b[49m\u001b[43m(\u001b[49m\n\u001b[1;32m     83\u001b[0m \u001b[43m    \u001b[49m\u001b[43mobs_space\u001b[49m\u001b[38;5;241;43m=\u001b[39;49m\u001b[43mobs_space\u001b[49m\u001b[43m,\u001b[49m\n\u001b[1;32m     84\u001b[0m \u001b[43m    \u001b[49m\u001b[43mgoal_space\u001b[49m\u001b[38;5;241;43m=\u001b[39;49m\u001b[43mgoal_space\u001b[49m\u001b[43m,\u001b[49m\n\u001b[1;32m     85\u001b[0m \u001b[43m    \u001b[49m\u001b[43mrl2_space\u001b[49m\u001b[38;5;241;43m=\u001b[39;49m\u001b[43mrl2_space\u001b[49m\u001b[43m,\u001b[49m\n\u001b[1;32m     86\u001b[0m \u001b[43m\u001b[49m\u001b[43m)\u001b[49m\n\u001b[1;32m     87\u001b[0m \u001b[38;5;28mself\u001b[39m\u001b[38;5;241m.\u001b[39mtraj_encoder \u001b[38;5;241m=\u001b[39m traj_encoder_Cls(\n\u001b[1;32m     88\u001b[0m     tstep_dim\u001b[38;5;241m=\u001b[39m\u001b[38;5;28mself\u001b[39m\u001b[38;5;241m.\u001b[39mtstep_encoder\u001b[38;5;241m.\u001b[39memb_dim,\n\u001b[1;32m     89\u001b[0m     max_seq_len\u001b[38;5;241m=\u001b[39mmax_seq_len,\n\u001b[1;32m     90\u001b[0m     horizon\u001b[38;5;241m=\u001b[39mhorizon,\n\u001b[1;32m     91\u001b[0m )\n\u001b[1;32m     92\u001b[0m \u001b[38;5;28mself\u001b[39m\u001b[38;5;241m.\u001b[39memb_dim \u001b[38;5;241m=\u001b[39m \u001b[38;5;28mself\u001b[39m\u001b[38;5;241m.\u001b[39mtraj_encoder\u001b[38;5;241m.\u001b[39memb_dim\n",
      "\u001b[0;31mTypeError\u001b[0m: switch_tstep_encoder() missing 2 required positional arguments: 'config' and 'arch'\n  In call to configurable 'Agent' (<class 'amago.agent.Agent'>)"
     ]
    }
   ],
   "source": [
    "# boilerplate to imitate training script command line interface\n",
    "parser = ArgumentParser()\n",
    "add_common_cli(parser)\n",
    "args = parser.parse_args([\"--run_name=amago_test\", \"--buffer_dir=checkpoints\"])\n",
    "args.no_log = True\n",
    "args.gpu = GPU\n",
    "\n",
    "# print(args)\n",
    "\n",
    "config = {\n",
    "    \"amago.agent.Agent.reward_multiplier\" : 10.,\n",
    "    \"amago.agent.Agent.tstep_encoder_Cls\" : partial(popgym_example.switch_tstep_encoder, obs_kind=\"crop\"),\n",
    "    \"amago.nets.tstep_encoders.TstepEncoder.goal_emb_Cls\" : amago.nets.goal_embedders.TokenGoalEmb,\n",
    "    \"amago.nets.goal_embedders.TokenGoalEmb.zero_embedding\" : False,\n",
    "    \"amago.nets.goal_embedders.TokenGoalEmb.goal_emb_dim\" : 64,\n",
    "}\n",
    "\n",
    "switch_traj_encoder(config, arch=\"transformer\", memory_size=256, layers=3)\n",
    "use_config(config, args.configs, finalize=False)\n",
    "\n",
    "make_env = lambda: POPGymEnv(f\"popgym-{'AutoencodeMedium'}-v0\")\n",
    "\n",
    "group_name = f\"popgym\"\n",
    "run_name = group_name + \"_trial_0\"\n",
    "experiment = create_experiment_from_cli(\n",
    "            args,\n",
    "            make_train_env=make_env,\n",
    "            make_val_env=make_env,\n",
    "            max_seq_len=512,\n",
    "            traj_save_len=2501,\n",
    "            stagger_traj_file_lengths=False,\n",
    "            run_name=run_name,\n",
    "            group_name=group_name,\n",
    "            # batch_size=24, # 18\n",
    "            val_timesteps_per_epoch=5000,\n",
    "            relabel=\"some\",\n",
    "            goal_importance_sampling=True,\n",
    "        )\n",
    "\n",
    "# build the agent with randomly initialized weights. This is a smaller architecture than used in the main results\n",
    "experiment.start()"
   ]
  },
  {
   "cell_type": "markdown",
   "id": "5f267556-9b0e-4bcf-87a3-d22216807f31",
   "metadata": {},
   "source": [
    "#### Step 2: Download and replace parameters with pretrained checkpoint"
   ]
  },
  {
   "cell_type": "code",
   "execution_count": 4,
   "id": "ced17261-6be3-4629-934b-0579093c2edc",
   "metadata": {},
   "outputs": [
    {
     "data": {
      "text/plain": [
       "_IncompatibleKeys(missing_keys=['maximized_critics.inp_layer.weight', 'maximized_critics.inp_layer.bias', 'maximized_critics.core_layers.0.weight', 'maximized_critics.core_layers.0.bias', 'maximized_critics.output_layer.weight', 'maximized_critics.output_layer.bias'], unexpected_keys=[])"
      ]
     },
     "execution_count": 4,
     "metadata": {},
     "output_type": "execute_result"
    }
   ],
   "source": [
    "# checkpoint from long pixel-based training run that closely reproduces Appendix C5 Table 2 using the public repo\n",
    "ckpt_link = \"https://utexas.box.com/shared/static/xvkgo02vkp8kn7j80051jbr6224tep9r.pt\"\n",
    "response = requests.get(ckpt_link)\n",
    "\n",
    "# write file to the expected name and location based on this experiment's configuration (above).\n",
    "with open(os.path.join(\"crafter_pretrained_example\", run_name, \"ckpts\", \"crafter_dec23_directed_crafter_crop_trial_0_BEST.pt\"), \"wb\") as f:\n",
    "    f.write(response.content)\n",
    "\n",
    "# load checkpoint\n",
    "# you would normally load the best checkpoint like this:\n",
    "# experiment.load_checkpoint(loading_best=True)\n",
    "# manual workaround for backwards-compatible old checkpoint\n",
    "ckpt = torch.load(os.path.join(experiment.ckpt_dir, f\"{experiment.run_name}_BEST.pt\"), map_location=experiment.DEVICE)\n",
    "experiment.policy.load_state_dict(ckpt[\"model_state\"], strict=False)"
   ]
  },
  {
   "cell_type": "markdown",
   "id": "7e9abcdb-9f07-42b2-b37b-96bb51ab928b",
   "metadata": {},
   "source": [
    "#### Step 3: Evaluate and visualize"
   ]
  },
  {
   "cell_type": "code",
   "execution_count": 5,
   "id": "321c1f1e-5d56-4afc-928a-c79def465e59",
   "metadata": {},
   "outputs": [
    {
     "ename": "",
     "evalue": "",
     "output_type": "error",
     "traceback": [
      "\u001b[1;31mThe Kernel crashed while executing code in the current cell or a previous cell. \n",
      "\u001b[1;31mPlease review the code in the cell(s) to identify a possible cause of the failure. \n",
      "\u001b[1;31mClick <a href='https://aka.ms/vscodeJupyterKernelCrash'>here</a> for more info. \n",
      "\u001b[1;31mView Jupyter <a href='command:jupyter.viewOutput'>log</a> for further details."
     ]
    }
   ],
   "source": [
    "# Specify the task here! A list of any of up to 5 of the crafter achievements with _ separators. For example:\n",
    "TASK = [\"make_stone_pickaxe\", \"collect_coal\", \"travel_40m_40m\", \"place_stone\"]"
   ]
  },
  {
   "cell_type": "code",
   "execution_count": 6,
   "id": "7a012443-8717-478d-977a-c479cefcc4e7",
   "metadata": {},
   "outputs": [
    {
     "name": "stderr",
     "output_type": "stream",
     "text": [
      "Env Interaction:   0%|\u001b[33m          \u001b[0m| 0/3500 [00:00<?, ?it/s]/home/jovyan/.local/lib/python3.10/site-packages/gym/core.py:43: DeprecationWarning: \u001b[33mWARN: The argument mode in render method is deprecated; use render_mode during environment initialization instead.\n",
      "See here for more information: https://www.gymlibrary.ml/content/api/\u001b[0m\n",
      "  deprecation(\n"
     ]
    }
   ],
   "source": [
    "# reset video directory for a new task\n",
    "files = glob.glob('crafter_notebook_videos/*')\n",
    "for f in files:\n",
    "    os.remove(f)\n",
    "\n",
    "def make_eval_env():\n",
    "    e = make_env()\n",
    "    e.set_env_name(f\"crafter_eval\")\n",
    "    # manually set the task\n",
    "    e.set_fixed_task([t.split(\"_\") for t in TASK])\n",
    "    return e\n",
    "\n",
    "experiment.parallel_actors = 1 # 6 # adjust as needed!\n",
    "\n",
    "# runs the evaluation and saves videos to disk\n",
    "warnings.filterwarnings(\"ignore\", category=UserWarning)\n",
    "success = experiment.evaluate_test(make_eval_env, timesteps=3500, render=False)[\"Average Success Rate in crafter_eval\"]\n",
    "print(f\"\\n\\nTask \\\"{', '.join(TASK)}\\\" Success Rate: {success * 100 : .1f}%\")"
   ]
  },
  {
   "cell_type": "code",
   "execution_count": null,
   "id": "54cb54a6-4d13-40c0-8035-01a72863ca5a",
   "metadata": {},
   "outputs": [
    {
     "data": {
      "text/html": [
       "<table><caption style='font-size: 24px'>make_stone_pickaxe, collect_coal, travel_40m_40m, place_stone</caption><tr>\n",
       "    <td>\n",
       "        <video width=300px alt=\"Video\" controls>\n",
       "            <source src=\"crafter_notebook_videos/20240213T211855-achNone-len55.mp4\" type=\"video/mp4\">\n",
       "        </video>\n",
       "    </td>\n",
       "    \n",
       "    <td>\n",
       "        <video width=300px alt=\"Video\" controls>\n",
       "            <source src=\"crafter_notebook_videos/20240213T211659-ach9-len164.mp4\" type=\"video/mp4\">\n",
       "        </video>\n",
       "    </td>\n",
       "    \n",
       "    <td>\n",
       "        <video width=300px alt=\"Video\" controls>\n",
       "            <source src=\"crafter_notebook_videos/20240213T211624-ach6-len203.mp4\" type=\"video/mp4\">\n",
       "        </video>\n",
       "    </td>\n",
       "    \n",
       "    <td>\n",
       "        <video width=300px alt=\"Video\" controls>\n",
       "            <source src=\"crafter_notebook_videos/20240213T211601-ach6-len186.mp4\" type=\"video/mp4\">\n",
       "        </video>\n",
       "    </td>\n",
       "    </tr><tr>\n",
       "    <td>\n",
       "        <video width=300px alt=\"Video\" controls>\n",
       "            <source src=\"crafter_notebook_videos/20240213T211428-ach6-len162.mp4\" type=\"video/mp4\">\n",
       "        </video>\n",
       "    </td>\n",
       "    \n",
       "    <td>\n",
       "        <video width=300px alt=\"Video\" controls>\n",
       "            <source src=\"crafter_notebook_videos/20240213T211859-ach8-len178.mp4\" type=\"video/mp4\">\n",
       "        </video>\n",
       "    </td>\n",
       "    \n",
       "    <td>\n",
       "        <video width=300px alt=\"Video\" controls>\n",
       "            <source src=\"crafter_notebook_videos/20240213T211604-ach6-len172.mp4\" type=\"video/mp4\">\n",
       "        </video>\n",
       "    </td>\n",
       "    \n",
       "    <td>\n",
       "        <video width=300px alt=\"Video\" controls>\n",
       "            <source src=\"crafter_notebook_videos/20240213T212035-achNone-len163.mp4\" type=\"video/mp4\">\n",
       "        </video>\n",
       "    </td>\n",
       "    </tr><tr></tr></table>"
      ],
      "text/plain": [
       "<IPython.core.display.HTML object>"
      ]
     },
     "execution_count": 7,
     "metadata": {},
     "output_type": "execute_result"
    }
   ],
   "source": [
    "# display gameplay videos in the notebook; run again for a new random sample\n",
    "MAX_VIDEOS = 8\n",
    "videos = glob.glob(\"crafter_notebook_videos/*\")\n",
    "random.shuffle(videos)\n",
    "html_str = f\"<table><caption style='font-size: 24px'>{', '.join(TASK)}</caption><tr>\"\n",
    "for i, video_path in enumerate(videos):\n",
    "    video_html = f\"\"\"\n",
    "    <td>\n",
    "        <video width=300px alt=\"Video\" controls>\n",
    "            <source src=\"{video_path}\" type=\"video/mp4\">\n",
    "        </video>\n",
    "    </td>\n",
    "    \"\"\"\n",
    "    html_str += video_html\n",
    "    if (i + 1) % 4 == 0:\n",
    "        html_str += \"</tr><tr>\"\n",
    "    if i >= MAX_VIDEOS - 1:\n",
    "        break\n",
    "html_str += \"</tr></table>\"\n",
    "HTML(html_str)"
   ]
  }
 ],
 "metadata": {
  "kernelspec": {
   "display_name": "Python 3 (ipykernel)",
   "language": "python",
   "name": "python3"
  },
  "language_info": {
   "codemirror_mode": {
    "name": "ipython",
    "version": 3
   },
   "file_extension": ".py",
   "mimetype": "text/x-python",
   "name": "python",
   "nbconvert_exporter": "python",
   "pygments_lexer": "ipython3",
   "version": "3.10.14"
  }
 },
 "nbformat": 4,
 "nbformat_minor": 5
}
