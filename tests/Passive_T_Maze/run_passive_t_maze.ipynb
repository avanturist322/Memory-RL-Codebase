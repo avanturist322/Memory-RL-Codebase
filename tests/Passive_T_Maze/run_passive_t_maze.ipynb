{
 "cells": [
  {
   "cell_type": "code",
   "execution_count": 1,
   "metadata": {},
   "outputs": [],
   "source": [
    "import sys\n",
    "sys.path.append(\"../../\")\n",
    "\n",
    "# import matplotlib.pyplot as plt\n",
    "\n",
    "from environments.Passive_T_Maze.env.env_passive_t_maze import TMazeClassicPassive"
   ]
  },
  {
   "cell_type": "code",
   "execution_count": 34,
   "metadata": {},
   "outputs": [
    {
     "name": "stdout",
     "output_type": "stream",
     "text": [
      "0 [ 0. -1.]\n",
      "1 [0. 0.] -0.0 False 1 0 -1 0 SumR 0.0\n",
      "2 [0. 0.] -0.0 False 2 0 -1 0 SumR 0.0\n",
      "3 [0. 0.] -0.0 False 3 0 -1 0 SumR 0.0\n",
      "4 [0. 0.] -0.0 False 4 0 -1 0 SumR 0.0\n",
      "5 [0. 0.] -0.0 False 5 0 -1 0 SumR 0.0\n",
      "6 [0. 0.] -0.0 False 6 0 -1 0 SumR 0.0\n",
      "7 [0. 0.] -0.0 False 7 0 -1 0 SumR 0.0\n",
      "8 [0. 0.] -0.0 False 8 0 -1 0 SumR 0.0\n",
      "9 [0. 0.] -0.0 False 9 0 -1 0 SumR 0.0\n",
      "10 [0. 0.] -0.0 False 10 0 -1 0 SumR 0.0\n",
      "11 [0. 0.] -0.0 False 11 0 -1 0 SumR 0.0\n",
      "12 [0. 0.] -0.0 False 12 0 -1 0 SumR 0.0\n",
      "13 [0. 0.] -0.0 False 13 0 -1 0 SumR 0.0\n",
      "14 [0. 0.] -0.0 False 14 0 -1 0 SumR 0.0\n",
      "15 [1. 0.] -0.0 False 15 0 -1 0 SumR 0.0\n",
      "16 [ 1. -1.] 1.0 True 15 -1 -1 3 SumR 1.0\n"
     ]
    }
   ],
   "source": [
    "length = 15\n",
    "\n",
    "env = TMazeClassicPassive(\n",
    "    corridor_length=length,\n",
    "    goal_reward=1.0,\n",
    "    penalty=-1/length,\n",
    "    distract_reward=0.0,\n",
    "\n",
    ")\n",
    "\n",
    "obs = env.reset() # obs = {y_coord, hint}\n",
    "print(env.time_step, obs)\n",
    "done = False\n",
    "total_return = 0\n",
    "obs_mem = obs[1]\n",
    "while not done:\n",
    "    act = env.action_space.sample()\n",
    "\n",
    "    ## optimal policy\n",
    "    # if env.time_step == 0:\n",
    "    #     act = 2  # left\n",
    "    if env.time_step == env.episode_length-1:\n",
    "        if obs_mem == -1:\n",
    "            act = 3  # down\n",
    "        else:\n",
    "            act = 1  # up\n",
    "    else:\n",
    "        act = 0  # right\n",
    "\n",
    "    obs, rew, done, info = env.step(act)\n",
    "    total_return += rew\n",
    "    print(env.time_step, obs, rew, done, env.x, env.y, env.goal_y, act, 'SumR', total_return)"
   ]
  },
  {
   "cell_type": "code",
   "execution_count": null,
   "metadata": {},
   "outputs": [],
   "source": []
  }
 ],
 "metadata": {
  "kernelspec": {
   "display_name": "memory_rl_passive_tmaze",
   "language": "python",
   "name": "python3"
  },
  "language_info": {
   "codemirror_mode": {
    "name": "ipython",
    "version": 3
   },
   "file_extension": ".py",
   "mimetype": "text/x-python",
   "name": "python",
   "nbconvert_exporter": "python",
   "pygments_lexer": "ipython3",
   "version": "3.11.9"
  }
 },
 "nbformat": 4,
 "nbformat_minor": 2
}
