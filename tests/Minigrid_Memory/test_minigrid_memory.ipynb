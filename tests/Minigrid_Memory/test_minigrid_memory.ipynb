{
 "cells": [
  {
   "cell_type": "code",
   "execution_count": 1,
   "metadata": {},
   "outputs": [],
   "source": [
    "import sys\n",
    "sys.path.append(\"../../\")\n",
    "\n",
    "from environments.Minigrid_Memory.env.env_minigrid import Minigrid  \n",
    "import numpy as np\n",
    "import gym"
   ]
  },
  {
   "cell_type": "code",
   "execution_count": 5,
   "metadata": {},
   "outputs": [
    {
     "name": "stdout",
     "output_type": "stream",
     "text": [
      "env_obs_space_shape: (3, 84, 84), env_action_space_shape: Discrete(3)\n"
     ]
    }
   ],
   "source": [
    "env = Minigrid('MiniGrid-MemoryS9-v0', 31)\n",
    "obs = env.reset()\n",
    "\n",
    "print(f'env_obs_space_shape: {env.observation_space.shape}, env_action_space: {env.action_space}')"
   ]
  },
  {
   "cell_type": "code",
   "execution_count": 11,
   "metadata": {},
   "outputs": [
    {
     "name": "stdout",
     "output_type": "stream",
     "text": [
      "image (3, 84, 84)\n"
     ]
    }
   ],
   "source": [
    "print(env.observation_space.obs_type, env.observation_space.obs_shape)"
   ]
  },
  {
   "cell_type": "code",
   "execution_count": 12,
   "metadata": {},
   "outputs": [
    {
     "name": "stdout",
     "output_type": "stream",
     "text": [
      "Init observaion (3, 84, 84)\n",
      "Max episode lenght: 96\n",
      "Step: 1, Action :2, obs: (3, 84, 84), reward: 0, terminated: False, info: None\n",
      "Step: 2, Action :1, obs: (3, 84, 84), reward: 0, terminated: False, info: None\n",
      "Step: 3, Action :1, obs: (3, 84, 84), reward: 0, terminated: False, info: None\n",
      "Step: 4, Action :1, obs: (3, 84, 84), reward: 0, terminated: False, info: None\n",
      "Step: 5, Action :0, obs: (3, 84, 84), reward: 0, terminated: False, info: None\n",
      "Step: 6, Action :0, obs: (3, 84, 84), reward: 0, terminated: False, info: None\n",
      "Step: 7, Action :2, obs: (3, 84, 84), reward: 0, terminated: False, info: None\n",
      "Step: 8, Action :1, obs: (3, 84, 84), reward: 0, terminated: False, info: None\n",
      "Step: 9, Action :1, obs: (3, 84, 84), reward: 0, terminated: False, info: None\n",
      "Step: 10, Action :1, obs: (3, 84, 84), reward: 0, terminated: False, info: None\n",
      "Step: 11, Action :1, obs: (3, 84, 84), reward: 0, terminated: False, info: None\n",
      "Step: 12, Action :2, obs: (3, 84, 84), reward: 0, terminated: False, info: None\n",
      "Step: 13, Action :1, obs: (3, 84, 84), reward: 0, terminated: False, info: None\n",
      "Step: 14, Action :0, obs: (3, 84, 84), reward: 0, terminated: False, info: None\n",
      "Step: 15, Action :0, obs: (3, 84, 84), reward: 0, terminated: False, info: None\n",
      "Step: 16, Action :2, obs: (3, 84, 84), reward: 0, terminated: False, info: None\n",
      "Step: 17, Action :0, obs: (3, 84, 84), reward: 0, terminated: False, info: None\n",
      "Step: 18, Action :2, obs: (3, 84, 84), reward: 0, terminated: False, info: None\n",
      "Step: 19, Action :2, obs: (3, 84, 84), reward: 0, terminated: False, info: None\n",
      "Step: 20, Action :0, obs: (3, 84, 84), reward: 0, terminated: False, info: None\n",
      "Step: 21, Action :2, obs: (3, 84, 84), reward: 0, terminated: False, info: None\n",
      "Step: 22, Action :1, obs: (3, 84, 84), reward: 0, terminated: False, info: None\n",
      "Step: 23, Action :2, obs: (3, 84, 84), reward: 0, terminated: False, info: None\n",
      "Step: 24, Action :0, obs: (3, 84, 84), reward: 0, terminated: False, info: None\n",
      "Step: 25, Action :0, obs: (3, 84, 84), reward: 0, terminated: False, info: None\n",
      "Step: 26, Action :0, obs: (3, 84, 84), reward: 0, terminated: False, info: None\n",
      "Step: 27, Action :0, obs: (3, 84, 84), reward: 0, terminated: False, info: None\n",
      "Step: 28, Action :2, obs: (3, 84, 84), reward: 0, terminated: False, info: None\n",
      "Step: 29, Action :2, obs: (3, 84, 84), reward: 0, terminated: False, info: None\n",
      "Step: 30, Action :2, obs: (3, 84, 84), reward: 0, terminated: False, info: None\n",
      "Step: 31, Action :1, obs: (3, 84, 84), reward: 0, terminated: False, info: None\n",
      "Step: 32, Action :2, obs: (3, 84, 84), reward: 0, terminated: False, info: None\n",
      "Step: 33, Action :1, obs: (3, 84, 84), reward: 0, terminated: False, info: None\n",
      "Step: 34, Action :2, obs: (3, 84, 84), reward: 0, terminated: False, info: None\n",
      "Step: 35, Action :2, obs: (3, 84, 84), reward: 0, terminated: False, info: None\n",
      "Step: 36, Action :0, obs: (3, 84, 84), reward: 0, terminated: False, info: None\n",
      "Step: 37, Action :1, obs: (3, 84, 84), reward: 0, terminated: False, info: None\n",
      "Step: 38, Action :0, obs: (3, 84, 84), reward: 0, terminated: False, info: None\n",
      "Step: 39, Action :2, obs: (3, 84, 84), reward: 0, terminated: False, info: None\n",
      "Step: 40, Action :2, obs: (3, 84, 84), reward: 0, terminated: False, info: None\n",
      "Step: 41, Action :1, obs: (3, 84, 84), reward: 0, terminated: False, info: None\n",
      "Step: 42, Action :2, obs: (3, 84, 84), reward: 0.9066666666666666, terminated: True, info: {'reward': 0.9066666666666666, 'length': 42}\n"
     ]
    }
   ],
   "source": [
    "\n",
    "obs = env.reset()\n",
    "\n",
    "terminated = False\n",
    "print(f'Init observaion {obs.shape}')\n",
    "# print(env.deck.__dict__)\n",
    "print(f'Max episode lenght: {env.max_episode_steps}')\n",
    "i = 0\n",
    "while not terminated:\n",
    "    action = env.action_space.sample()#agent.act(obs) #env.action_space.sample()\n",
    "    obs, reward, terminated, info = env.step(action)\n",
    "    i += 1\n",
    "\n",
    "    print(f'Step: {i}, Action :{action}, obs: {obs.shape}, reward: {reward}, terminated: {terminated}, info: {info}')"
   ]
  },
  {
   "cell_type": "code",
   "execution_count": null,
   "metadata": {},
   "outputs": [],
   "source": []
  }
 ],
 "metadata": {
  "kernelspec": {
   "display_name": "Python 3",
   "language": "python",
   "name": "python3"
  },
  "language_info": {
   "codemirror_mode": {
    "name": "ipython",
    "version": 3
   },
   "file_extension": ".py",
   "mimetype": "text/x-python",
   "name": "python",
   "nbconvert_exporter": "python",
   "pygments_lexer": "ipython3",
   "version": "3.8.10"
  }
 },
 "nbformat": 4,
 "nbformat_minor": 2
}
