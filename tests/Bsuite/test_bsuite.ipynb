{
 "cells": [
  {
   "cell_type": "code",
   "execution_count": 1,
   "metadata": {},
   "outputs": [],
   "source": [
    "import sys\n",
    "sys.path.append(\"../../\")\n",
    "\n",
    "from environments.Bsuite.bsuite_env import BsuiteWrapper\n",
    "import numpy as np\n",
    "import gym"
   ]
  },
  {
   "cell_type": "markdown",
   "metadata": {},
   "source": [
    "## DiscountingChain: Win strategy\n",
    "на первом шаге агент может выбрать одно из k действий, каждое из действий соответствует цепочке, в которой агент получает награду только на N-ом шаге (до и после награда - 0) для какого-то определенного действия из k возможных награда будет больше на 10%, чем для остальных - агент должен научиться определять такое действие. Только первое действие определяет, какую награду получит агент\n"
   ]
  },
  {
   "cell_type": "code",
   "execution_count": 2,
   "metadata": {},
   "outputs": [],
   "source": [
    "env = BsuiteWrapper(env_name = 'DiscountingChain')"
   ]
  },
  {
   "cell_type": "code",
   "execution_count": 3,
   "metadata": {},
   "outputs": [
    {
     "data": {
      "text/plain": [
       "100"
      ]
     },
     "execution_count": 3,
     "metadata": {},
     "output_type": "execute_result"
    }
   ],
   "source": [
    "env.max_episode_steps"
   ]
  },
  {
   "cell_type": "code",
   "execution_count": 4,
   "metadata": {},
   "outputs": [
    {
     "name": "stdout",
     "output_type": "stream",
     "text": [
      "Action :2, obs: [2.   0.01], reward: 0.0, terminated: False, info: {}\n",
      "Action :2, obs: [2.   0.02], reward: 0.0, terminated: False, info: {}\n",
      "Action :2, obs: [2.   0.03], reward: 0.0, terminated: False, info: {}\n",
      "Action :2, obs: [2.   0.04], reward: 0.0, terminated: False, info: {}\n",
      "Action :2, obs: [2.   0.05], reward: 0.0, terminated: False, info: {}\n",
      "Action :2, obs: [2.   0.06], reward: 0.0, terminated: False, info: {}\n",
      "Action :2, obs: [2.   0.07], reward: 0.0, terminated: False, info: {}\n",
      "Action :2, obs: [2.   0.08], reward: 0.0, terminated: False, info: {}\n",
      "Action :2, obs: [2.   0.09], reward: 0.0, terminated: False, info: {}\n",
      "Action :2, obs: [2.  0.1], reward: 1.1, terminated: False, info: {}\n",
      "Action :2, obs: [2.   0.11], reward: 0.0, terminated: False, info: {}\n",
      "Action :2, obs: [2.   0.12], reward: 0.0, terminated: False, info: {}\n",
      "Action :2, obs: [2.   0.13], reward: 0.0, terminated: False, info: {}\n",
      "Action :2, obs: [2.   0.14], reward: 0.0, terminated: False, info: {}\n",
      "Action :2, obs: [2.   0.15], reward: 0.0, terminated: False, info: {}\n",
      "Action :2, obs: [2.   0.16], reward: 0.0, terminated: False, info: {}\n",
      "Action :2, obs: [2.   0.17], reward: 0.0, terminated: False, info: {}\n",
      "Action :2, obs: [2.   0.18], reward: 0.0, terminated: False, info: {}\n",
      "Action :2, obs: [2.   0.19], reward: 0.0, terminated: False, info: {}\n",
      "Action :2, obs: [2.  0.2], reward: 0.0, terminated: False, info: {}\n",
      "Action :2, obs: [2.   0.21], reward: 0.0, terminated: False, info: {}\n",
      "Action :2, obs: [2.   0.22], reward: 0.0, terminated: False, info: {}\n",
      "Action :2, obs: [2.   0.23], reward: 0.0, terminated: False, info: {}\n",
      "Action :2, obs: [2.   0.24], reward: 0.0, terminated: False, info: {}\n",
      "Action :2, obs: [2.   0.25], reward: 0.0, terminated: False, info: {}\n",
      "Action :2, obs: [2.   0.26], reward: 0.0, terminated: False, info: {}\n",
      "Action :2, obs: [2.   0.27], reward: 0.0, terminated: False, info: {}\n",
      "Action :2, obs: [2.   0.28], reward: 0.0, terminated: False, info: {}\n",
      "Action :2, obs: [2.   0.29], reward: 0.0, terminated: False, info: {}\n",
      "Action :2, obs: [2.  0.3], reward: 0.0, terminated: False, info: {}\n",
      "Action :2, obs: [2.   0.31], reward: 0.0, terminated: False, info: {}\n",
      "Action :2, obs: [2.   0.32], reward: 0.0, terminated: False, info: {}\n",
      "Action :2, obs: [2.   0.33], reward: 0.0, terminated: False, info: {}\n",
      "Action :2, obs: [2.   0.34], reward: 0.0, terminated: False, info: {}\n",
      "Action :2, obs: [2.   0.35], reward: 0.0, terminated: False, info: {}\n",
      "Action :2, obs: [2.   0.36], reward: 0.0, terminated: False, info: {}\n",
      "Action :2, obs: [2.   0.37], reward: 0.0, terminated: False, info: {}\n",
      "Action :2, obs: [2.   0.38], reward: 0.0, terminated: False, info: {}\n",
      "Action :2, obs: [2.   0.39], reward: 0.0, terminated: False, info: {}\n",
      "Action :2, obs: [2.  0.4], reward: 0.0, terminated: False, info: {}\n",
      "Action :2, obs: [2.   0.41], reward: 0.0, terminated: False, info: {}\n",
      "Action :2, obs: [2.   0.42], reward: 0.0, terminated: False, info: {}\n",
      "Action :2, obs: [2.   0.43], reward: 0.0, terminated: False, info: {}\n",
      "Action :2, obs: [2.   0.44], reward: 0.0, terminated: False, info: {}\n",
      "Action :2, obs: [2.   0.45], reward: 0.0, terminated: False, info: {}\n",
      "Action :2, obs: [2.   0.46], reward: 0.0, terminated: False, info: {}\n",
      "Action :2, obs: [2.   0.47], reward: 0.0, terminated: False, info: {}\n",
      "Action :2, obs: [2.   0.48], reward: 0.0, terminated: False, info: {}\n",
      "Action :2, obs: [2.   0.49], reward: 0.0, terminated: False, info: {}\n",
      "Action :2, obs: [2.  0.5], reward: 0.0, terminated: False, info: {}\n",
      "Action :2, obs: [2.   0.51], reward: 0.0, terminated: False, info: {}\n",
      "Action :2, obs: [2.   0.52], reward: 0.0, terminated: False, info: {}\n",
      "Action :2, obs: [2.   0.53], reward: 0.0, terminated: False, info: {}\n",
      "Action :2, obs: [2.   0.54], reward: 0.0, terminated: False, info: {}\n",
      "Action :2, obs: [2.   0.55], reward: 0.0, terminated: False, info: {}\n",
      "Action :2, obs: [2.   0.56], reward: 0.0, terminated: False, info: {}\n",
      "Action :2, obs: [2.   0.57], reward: 0.0, terminated: False, info: {}\n",
      "Action :2, obs: [2.   0.58], reward: 0.0, terminated: False, info: {}\n",
      "Action :2, obs: [2.   0.59], reward: 0.0, terminated: False, info: {}\n",
      "Action :2, obs: [2.  0.6], reward: 0.0, terminated: False, info: {}\n",
      "Action :2, obs: [2.   0.61], reward: 0.0, terminated: False, info: {}\n",
      "Action :2, obs: [2.   0.62], reward: 0.0, terminated: False, info: {}\n",
      "Action :2, obs: [2.   0.63], reward: 0.0, terminated: False, info: {}\n",
      "Action :2, obs: [2.   0.64], reward: 0.0, terminated: False, info: {}\n",
      "Action :2, obs: [2.   0.65], reward: 0.0, terminated: False, info: {}\n",
      "Action :2, obs: [2.   0.66], reward: 0.0, terminated: False, info: {}\n",
      "Action :2, obs: [2.   0.67], reward: 0.0, terminated: False, info: {}\n",
      "Action :2, obs: [2.   0.68], reward: 0.0, terminated: False, info: {}\n",
      "Action :2, obs: [2.   0.69], reward: 0.0, terminated: False, info: {}\n",
      "Action :2, obs: [2.  0.7], reward: 0.0, terminated: False, info: {}\n",
      "Action :2, obs: [2.   0.71], reward: 0.0, terminated: False, info: {}\n",
      "Action :2, obs: [2.   0.72], reward: 0.0, terminated: False, info: {}\n",
      "Action :2, obs: [2.   0.73], reward: 0.0, terminated: False, info: {}\n",
      "Action :2, obs: [2.   0.74], reward: 0.0, terminated: False, info: {}\n",
      "Action :2, obs: [2.   0.75], reward: 0.0, terminated: False, info: {}\n",
      "Action :2, obs: [2.   0.76], reward: 0.0, terminated: False, info: {}\n",
      "Action :2, obs: [2.   0.77], reward: 0.0, terminated: False, info: {}\n",
      "Action :2, obs: [2.   0.78], reward: 0.0, terminated: False, info: {}\n",
      "Action :2, obs: [2.   0.79], reward: 0.0, terminated: False, info: {}\n",
      "Action :2, obs: [2.  0.8], reward: 0.0, terminated: False, info: {}\n",
      "Action :2, obs: [2.   0.81], reward: 0.0, terminated: False, info: {}\n",
      "Action :2, obs: [2.   0.82], reward: 0.0, terminated: False, info: {}\n",
      "Action :2, obs: [2.   0.83], reward: 0.0, terminated: False, info: {}\n",
      "Action :2, obs: [2.   0.84], reward: 0.0, terminated: False, info: {}\n",
      "Action :2, obs: [2.   0.85], reward: 0.0, terminated: False, info: {}\n",
      "Action :2, obs: [2.   0.86], reward: 0.0, terminated: False, info: {}\n",
      "Action :2, obs: [2.   0.87], reward: 0.0, terminated: False, info: {}\n",
      "Action :2, obs: [2.   0.88], reward: 0.0, terminated: False, info: {}\n",
      "Action :2, obs: [2.   0.89], reward: 0.0, terminated: False, info: {}\n",
      "Action :2, obs: [2.  0.9], reward: 0.0, terminated: False, info: {}\n",
      "Action :2, obs: [2.   0.91], reward: 0.0, terminated: False, info: {}\n",
      "Action :2, obs: [2.   0.92], reward: 0.0, terminated: False, info: {}\n",
      "Action :2, obs: [2.   0.93], reward: 0.0, terminated: False, info: {}\n",
      "Action :2, obs: [2.   0.94], reward: 0.0, terminated: False, info: {}\n",
      "Action :2, obs: [2.   0.95], reward: 0.0, terminated: False, info: {}\n",
      "Action :2, obs: [2.   0.96], reward: 0.0, terminated: False, info: {}\n",
      "Action :2, obs: [2.   0.97], reward: 0.0, terminated: False, info: {}\n",
      "Action :2, obs: [2.   0.98], reward: 0.0, terminated: False, info: {}\n",
      "Action :2, obs: [2.   0.99], reward: 0.0, terminated: False, info: {}\n",
      "Action :2, obs: [2. 1.], reward: 0.0, terminated: True, info: {'reward': 1.1, 'length': 100}\n"
     ]
    }
   ],
   "source": [
    "obs = env.reset()\n",
    "for i in range(env.max_episode_steps):\n",
    "    action = env._env.mapping_seed #env.action_space.sample()\n",
    "    obs, reward, terminated, info = env.step(action)\n",
    "\n",
    "    print(f'Action :{action}, obs: {obs}, reward: {reward}, terminated: {terminated}, info: {info}')"
   ]
  },
  {
   "cell_type": "code",
   "execution_count": null,
   "metadata": {},
   "outputs": [],
   "source": []
  },
  {
   "cell_type": "code",
   "execution_count": null,
   "metadata": {},
   "outputs": [],
   "source": []
  },
  {
   "cell_type": "markdown",
   "metadata": {},
   "source": [
    "## MemoryLength\n",
    "на каждом шаге наблюдение - либо +1 либо -1, награда дается только на последнем шаге, если агент правильно предскажет первое наблюдение\n"
   ]
  },
  {
   "cell_type": "code",
   "execution_count": 5,
   "metadata": {},
   "outputs": [],
   "source": [
    "env = BsuiteWrapper(env_name = 'MemoryLengthEasy')"
   ]
  },
  {
   "cell_type": "code",
   "execution_count": 6,
   "metadata": {},
   "outputs": [
    {
     "data": {
      "text/plain": [
       "31"
      ]
     },
     "execution_count": 6,
     "metadata": {},
     "output_type": "execute_result"
    }
   ],
   "source": [
    "env.max_episode_steps"
   ]
  },
  {
   "cell_type": "code",
   "execution_count": 7,
   "metadata": {},
   "outputs": [
    {
     "name": "stdout",
     "output_type": "stream",
     "text": [
      "context: [0.]\n",
      "Action :0, obs: [ 1.  0. -1.], reward: 0.0, terminated: False, info: {}\n",
      "Action :1, obs: [0.96666664 0.         0.        ], reward: 0.0, terminated: False, info: {}\n",
      "Action :0, obs: [0.93333334 0.         0.        ], reward: 0.0, terminated: False, info: {}\n",
      "Action :1, obs: [0.9 0.  0. ], reward: 0.0, terminated: False, info: {}\n",
      "Action :0, obs: [0.8666667 0.        0.       ], reward: 0.0, terminated: False, info: {}\n",
      "Action :1, obs: [0.8333333 0.        0.       ], reward: 0.0, terminated: False, info: {}\n",
      "Action :1, obs: [0.8 0.  0. ], reward: 0.0, terminated: False, info: {}\n",
      "Action :1, obs: [0.76666665 0.         0.        ], reward: 0.0, terminated: False, info: {}\n",
      "Action :1, obs: [0.73333335 0.         0.        ], reward: 0.0, terminated: False, info: {}\n",
      "Action :1, obs: [0.7 0.  0. ], reward: 0.0, terminated: False, info: {}\n",
      "Action :1, obs: [0.6666667 0.        0.       ], reward: 0.0, terminated: False, info: {}\n",
      "Action :1, obs: [0.6333333 0.        0.       ], reward: 0.0, terminated: False, info: {}\n",
      "Action :0, obs: [0.6 0.  0. ], reward: 0.0, terminated: False, info: {}\n",
      "Action :0, obs: [0.56666666 0.         0.        ], reward: 0.0, terminated: False, info: {}\n",
      "Action :0, obs: [0.53333336 0.         0.        ], reward: 0.0, terminated: False, info: {}\n",
      "Action :1, obs: [0.5 0.  0. ], reward: 0.0, terminated: False, info: {}\n",
      "Action :1, obs: [0.46666667 0.         0.        ], reward: 0.0, terminated: False, info: {}\n",
      "Action :0, obs: [0.43333334 0.         0.        ], reward: 0.0, terminated: False, info: {}\n",
      "Action :1, obs: [0.4 0.  0. ], reward: 0.0, terminated: False, info: {}\n",
      "Action :1, obs: [0.36666667 0.         0.        ], reward: 0.0, terminated: False, info: {}\n",
      "Action :1, obs: [0.33333334 0.         0.        ], reward: 0.0, terminated: False, info: {}\n",
      "Action :0, obs: [0.3 0.  0. ], reward: 0.0, terminated: False, info: {}\n",
      "Action :1, obs: [0.26666668 0.         0.        ], reward: 0.0, terminated: False, info: {}\n",
      "Action :0, obs: [0.23333333 0.         0.        ], reward: 0.0, terminated: False, info: {}\n",
      "Action :1, obs: [0.2 0.  0. ], reward: 0.0, terminated: False, info: {}\n",
      "Action :1, obs: [0.16666667 0.         0.        ], reward: 0.0, terminated: False, info: {}\n",
      "Action :0, obs: [0.13333334 0.         0.        ], reward: 0.0, terminated: False, info: {}\n",
      "Action :0, obs: [0.1 0.  0. ], reward: 0.0, terminated: False, info: {}\n",
      "Action :1, obs: [0.06666667 0.         0.        ], reward: 0.0, terminated: False, info: {}\n",
      "query: 0\n",
      "Action :0, obs: [0.03333334 0.         0.        ], reward: 0.0, terminated: False, info: {}\n",
      "Action :0.0, obs: [0. 0. 0.], reward: 1.0, terminated: True, info: {'reward': 1.0, 'length': 31}\n"
     ]
    }
   ],
   "source": [
    "obs = env.reset()\n",
    "context = ((obs.copy()[2:] + 1)//2) # just transformation: -1 -> 0, 1 -> 1\n",
    "print(f'context: {context}')\n",
    "for i in range(env.max_episode_steps):\n",
    "    action = env.action_space.sample()\n",
    "    if i == env.max_episode_steps - 1:\n",
    "        action = context[query]\n",
    "    obs, reward, terminated, info = env.step(action)\n",
    "    if i == env.max_episode_steps - 2:\n",
    "        query = int(obs[1])\n",
    "        print(f'query: {query}')\n",
    "\n",
    "    print(f'Action :{action}, obs: {obs}, reward: {reward}, terminated: {terminated}, info: {info}')"
   ]
  },
  {
   "cell_type": "code",
   "execution_count": 3,
   "metadata": {},
   "outputs": [
    {
     "name": "stdout",
     "output_type": "stream",
     "text": [
      "\u001b[1m\u001b[97mLoaded bsuite_id: memory_len/5.\u001b[0m\n"
     ]
    }
   ],
   "source": [
    "import bsuite\n",
    "env = bsuite.load_from_id('memory_len/5')"
   ]
  },
  {
   "cell_type": "code",
   "execution_count": 4,
   "metadata": {},
   "outputs": [
    {
     "data": {
      "text/plain": [
       "TimeStep(step_type=<StepType.FIRST: 0>, reward=None, discount=None, observation=array([[1., 0., 1.]], dtype=float32))"
      ]
     },
     "execution_count": 4,
     "metadata": {},
     "output_type": "execute_result"
    }
   ],
   "source": [
    "env.reset()"
   ]
  },
  {
   "cell_type": "code",
   "execution_count": null,
   "metadata": {},
   "outputs": [],
   "source": []
  }
 ],
 "metadata": {
  "kernelspec": {
   "display_name": "Python 3",
   "language": "python",
   "name": "python3"
  },
  "language_info": {
   "codemirror_mode": {
    "name": "ipython",
    "version": 3
   },
   "file_extension": ".py",
   "mimetype": "text/x-python",
   "name": "python",
   "nbconvert_exporter": "python",
   "pygments_lexer": "ipython3",
   "version": "3.8.10"
  }
 },
 "nbformat": 4,
 "nbformat_minor": 2
}
