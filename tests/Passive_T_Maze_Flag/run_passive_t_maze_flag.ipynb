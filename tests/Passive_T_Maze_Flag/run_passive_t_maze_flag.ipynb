{
 "cells": [
  {
   "cell_type": "code",
   "execution_count": 16,
   "metadata": {},
   "outputs": [],
   "source": [
    "import sys\n",
    "sys.path.append(\"../../\")\n",
    "\n",
    "import matplotlib.pyplot as plt\n",
    "\n",
    "from environments.Passive_T_Maze_Flag.env.env_passive_t_maze_flag import TMazeClassicPassive"
   ]
  },
  {
   "cell_type": "code",
   "execution_count": 17,
   "metadata": {},
   "outputs": [],
   "source": [
    "corridor_length = 28\n",
    "episode_timeout = corridor_length + 2 # * DEFAULT CONFIGURATION: T = L + 2\n",
    "desired_reward = 1 # * DEFAULT"
   ]
  },
  {
   "cell_type": "code",
   "execution_count": 24,
   "metadata": {},
   "outputs": [
    {
     "name": "stdout",
     "output_type": "stream",
     "text": [
      "[ 0. -1.  0. -1.]\n",
      "[0. 0. 0. 1.]\n",
      "[0. 0. 0. 1.]\n",
      "[ 0.  0.  0. -1.]\n",
      "[ 0.  0.  0. -1.]\n",
      "[0. 0. 0. 1.]\n",
      "[0. 0. 0. 0.]\n",
      "[0. 0. 0. 1.]\n",
      "[0. 0. 0. 1.]\n",
      "[0. 0. 0. 1.]\n",
      "[0. 0. 0. 1.]\n",
      "[ 0.  0.  0. -1.]\n",
      "[0. 0. 0. 1.]\n",
      "[0. 0. 0. 0.]\n",
      "[ 0.  0.  0. -1.]\n",
      "[0. 0. 0. 0.]\n",
      "[0. 0. 0. 0.]\n",
      "[0. 0. 0. 0.]\n",
      "[0. 0. 0. 0.]\n",
      "[ 0.  0.  0. -1.]\n",
      "[ 0.  0.  0. -1.]\n",
      "[0. 0. 0. 0.]\n",
      "[0. 0. 0. 0.]\n",
      "[ 0.  0.  0. -1.]\n",
      "[ 0.  0.  0. -1.]\n",
      "[ 0.  0.  0. -1.]\n",
      "[0. 0. 0. 1.]\n",
      "[0. 0. 0. 1.]\n",
      "[0. 0. 0. 1.]\n",
      "[0. 0. 0. 0.]\n",
      "[0. 0. 0. 1.]\n"
     ]
    }
   ],
   "source": [
    "env = TMazeClassicPassive(episode_length=episode_timeout, \n",
    "                          corridor_length=corridor_length, \n",
    "                          goal_reward=desired_reward)\n",
    "\n",
    "obs = env.reset(seed=42)  # * {y, hint, flag, noise}\n",
    "\n",
    "done = False\n",
    "\n",
    "obss = []\n",
    "while not done:\n",
    "    print(obs)\n",
    "    obss.append(env.render())\n",
    "    act = env.action_space.sample()\n",
    "    obs, reward, done, info = env.step(act)\n",
    "\n",
    "print(obs)\n",
    "obss.append(env.render())\n",
    "env.close()"
   ]
  },
  {
   "cell_type": "code",
   "execution_count": 18,
   "metadata": {},
   "outputs": [
    {
     "name": "stdout",
     "output_type": "stream",
     "text": [
      "0 \t [ 0. -1.  0. -1.] \t\t 0\n",
      "1 \t [0. 0. 0. 1.] \t\t 0.0\n",
      "2 \t [0. 0. 0. 1.] \t\t 0.0\n",
      "3 \t [ 0.  0.  0. -1.] \t\t 0.0\n",
      "4 \t [ 0.  0.  0. -1.] \t\t 0.0\n",
      "5 \t [0. 0. 0. 1.] \t\t 0.0\n",
      "6 \t [0. 0. 0. 0.] \t\t 0.0\n",
      "7 \t [0. 0. 0. 1.] \t\t 0.0\n",
      "8 \t [0. 0. 0. 1.] \t\t 0.0\n",
      "9 \t [0. 0. 0. 1.] \t\t 0.0\n",
      "10 \t [0. 0. 0. 1.] \t\t 0.0\n",
      "11 \t [ 0.  0.  0. -1.] \t\t 0.0\n",
      "12 \t [0. 0. 0. 1.] \t\t 0.0\n",
      "13 \t [0. 0. 0. 0.] \t\t 0.0\n",
      "14 \t [ 0.  0.  0. -1.] \t\t 0.0\n",
      "15 \t [0. 0. 0. 0.] \t\t 0.0\n",
      "16 \t [0. 0. 0. 0.] \t\t 0.0\n",
      "17 \t [0. 0. 0. 0.] \t\t 0.0\n",
      "18 \t [0. 0. 0. 0.] \t\t 0.0\n",
      "19 \t [ 0.  0.  0. -1.] \t\t 0.0\n",
      "20 \t [ 0.  0.  0. -1.] \t\t 0.0\n",
      "21 \t [0. 0. 0. 0.] \t\t 0.0\n",
      "22 \t [0. 0. 0. 0.] \t\t 0.0\n",
      "23 \t [ 0.  0.  0. -1.] \t\t 0.0\n",
      "24 \t [ 0.  0.  0. -1.] \t\t 0.0\n",
      "25 \t [ 0.  0.  0. -1.] \t\t 0.0\n",
      "26 \t [0. 0. 0. 1.] \t\t 0.0\n",
      "27 \t [0. 0. 0. 1.] \t\t 0.0\n",
      "28 \t [0. 0. 1. 1.] \t\t 0.0\n",
      "29 \t [-1.  0.  0.  0.] \t\t 1.0\n"
     ]
    }
   ],
   "source": [
    "# OPTIMAL POLICY\n",
    "\n",
    "env = TMazeClassicPassive(episode_length=episode_timeout, \n",
    "                          corridor_length=corridor_length, \n",
    "                          goal_reward=desired_reward)\n",
    "\n",
    "obs = env.reset(seed=42)  # * {y, hint, flag, noise}\n",
    "x0 = env.x\n",
    "cue = obs[1]\n",
    "done = False\n",
    "step = 0\n",
    "R = 0\n",
    "\n",
    "obss = []\n",
    "while not done:\n",
    "    obss.append(env.render())\n",
    "    print(step,'\\t', obs, '\\t\\t', R)\n",
    "    a = 0 if step != corridor_length else (1 if cue == 1 else 3)\n",
    "    obs, r, done, info = env.step(a)\n",
    "    step += 1\n",
    "    R += r\n",
    "    x = env.x\n",
    "\n",
    "obss.append(env.render())\n",
    "env.close()\n",
    "\n",
    "print(step,'\\t', obs, '\\t\\t', R)"
   ]
  },
  {
   "cell_type": "code",
   "execution_count": 22,
   "metadata": {},
   "outputs": [
    {
     "name": "stdout",
     "output_type": "stream",
     "text": [
      "Moviepy - Building video __temp__.mp4.\n",
      "Moviepy - Writing video __temp__.mp4\n",
      "\n"
     ]
    },
    {
     "name": "stderr",
     "output_type": "stream",
     "text": [
      "                                                            "
     ]
    },
    {
     "name": "stdout",
     "output_type": "stream",
     "text": [
      "Moviepy - Done !\n",
      "Moviepy - video ready __temp__.mp4\n"
     ]
    },
    {
     "name": "stderr",
     "output_type": "stream",
     "text": [
      "\r"
     ]
    },
    {
     "data": {
      "text/html": [
       "<div align=middle><video src='data:video/mp4;base64,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' controls>Sorry, seems like your browser doesn't support HTML5 audio/video</video></div>"
      ],
      "text/plain": [
       "<moviepy.video.io.html_tools.HTML2 object>"
      ]
     },
     "execution_count": 22,
     "metadata": {},
     "output_type": "execute_result"
    }
   ],
   "source": [
    "from moviepy.editor import ImageSequenceClip\n",
    "import numpy as np\n",
    "\n",
    "desired_resolution = (945, 540)\n",
    "original_aspect_ratio = 112 / 64\n",
    "width = int(desired_resolution[0] * original_aspect_ratio)\n",
    "height = desired_resolution[1]\n",
    "\n",
    "observations = [np.squeeze(o) for o in obss]\n",
    "\n",
    "# Create ImageSequenceClip\n",
    "clip = ImageSequenceClip(observations, fps=24)\n",
    "clip = clip.resize(width=width, height=height)\n",
    "\n",
    "# Display the modified clip\n",
    "clip.ipython_display(maxduration=120)"
   ]
  },
  {
   "cell_type": "code",
   "execution_count": null,
   "metadata": {},
   "outputs": [],
   "source": []
  }
 ],
 "metadata": {
  "kernelspec": {
   "display_name": "memory_rl_tmaze_flag",
   "language": "python",
   "name": "python3"
  },
  "language_info": {
   "codemirror_mode": {
    "name": "ipython",
    "version": 3
   },
   "file_extension": ".py",
   "mimetype": "text/x-python",
   "name": "python",
   "nbconvert_exporter": "python",
   "pygments_lexer": "ipython3",
   "version": "3.11.9"
  }
 },
 "nbformat": 4,
 "nbformat_minor": 2
}
