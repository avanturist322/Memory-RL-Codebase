{
 "cells": [
  {
   "cell_type": "code",
   "execution_count": 1,
   "metadata": {},
   "outputs": [],
   "source": [
    "import sys\n",
    "sys.path.append(\"../../\")\n",
    "\n",
    "import matplotlib.pyplot as plt\n",
    "\n",
    "from environments.Passive_T_Maze_Flag.env.env_passive_t_maze_flag import TMazeClassicPassive"
   ]
  },
  {
   "cell_type": "code",
   "execution_count": null,
   "metadata": {},
   "outputs": [],
   "source": []
  },
  {
   "cell_type": "code",
   "execution_count": 2,
   "metadata": {},
   "outputs": [],
   "source": [
    "corridor_length = 28\n",
    "episode_timeout = corridor_length + 2 # * DEFAULT CONFIGURATION: T = L + 2\n",
    "desired_reward = 1 # * DEFAULT"
   ]
  },
  {
   "cell_type": "code",
   "execution_count": 3,
   "metadata": {},
   "outputs": [
    {
     "name": "stdout",
     "output_type": "stream",
     "text": [
      "[ 0. -1.  0. -1.]\n",
      "[0. 0. 0. 1.]\n",
      "[0. 0. 0. 1.]\n",
      "[ 0.  0.  0. -1.]\n",
      "[ 0.  0.  0. -1.]\n",
      "[0. 0. 0. 1.]\n",
      "[0. 0. 0. 0.]\n",
      "[0. 0. 0. 1.]\n",
      "[0. 0. 0. 1.]\n",
      "[0. 0. 0. 1.]\n",
      "[0. 0. 0. 1.]\n",
      "[ 0.  0.  0. -1.]\n",
      "[0. 0. 0. 1.]\n",
      "[0. 0. 0. 0.]\n",
      "[ 0.  0.  0. -1.]\n",
      "[0. 0. 0. 0.]\n",
      "[0. 0. 0. 0.]\n",
      "[0. 0. 0. 0.]\n",
      "[0. 0. 0. 0.]\n",
      "[ 0.  0.  0. -1.]\n",
      "[ 0.  0.  0. -1.]\n",
      "[0. 0. 0. 0.]\n",
      "[0. 0. 0. 0.]\n",
      "[ 0.  0.  0. -1.]\n",
      "[ 0.  0.  0. -1.]\n",
      "[ 0.  0.  0. -1.]\n",
      "[0. 0. 0. 1.]\n",
      "[0. 0. 0. 1.]\n",
      "[0. 0. 0. 1.]\n",
      "[0. 0. 0. 0.]\n",
      "[0. 0. 0. 1.]\n"
     ]
    }
   ],
   "source": [
    "env = TMazeClassicPassive(episode_length=episode_timeout, \n",
    "                          corridor_length=corridor_length, \n",
    "                          goal_reward=desired_reward)\n",
    "\n",
    "obs = env.reset(seed=42)  # * {y, hint, flag, noise}\n",
    "\n",
    "done = False\n",
    "\n",
    "obss = []\n",
    "while not done:\n",
    "    print(obs)\n",
    "    obss.append(env.render())\n",
    "    act = env.action_space.sample()\n",
    "    obs, reward, done, info = env.step(act)\n",
    "\n",
    "print(obs)\n",
    "obss.append(env.render())\n",
    "env.close()"
   ]
  },
  {
   "cell_type": "code",
   "execution_count": 4,
   "metadata": {},
   "outputs": [
    {
     "name": "stdout",
     "output_type": "stream",
     "text": [
      "0 \t [ 0. -1.  0. -1.] \t\t 0\n",
      "1 \t [0. 0. 0. 1.] \t\t 0.0\n",
      "2 \t [0. 0. 0. 1.] \t\t 0.0\n",
      "3 \t [ 0.  0.  0. -1.] \t\t 0.0\n",
      "4 \t [ 0.  0.  0. -1.] \t\t 0.0\n",
      "5 \t [0. 0. 0. 1.] \t\t 0.0\n",
      "6 \t [0. 0. 0. 0.] \t\t 0.0\n",
      "7 \t [0. 0. 0. 1.] \t\t 0.0\n",
      "8 \t [0. 0. 0. 1.] \t\t 0.0\n",
      "9 \t [0. 0. 0. 1.] \t\t 0.0\n",
      "10 \t [0. 0. 0. 1.] \t\t 0.0\n",
      "11 \t [ 0.  0.  0. -1.] \t\t 0.0\n",
      "12 \t [0. 0. 0. 1.] \t\t 0.0\n",
      "13 \t [0. 0. 0. 0.] \t\t 0.0\n",
      "14 \t [ 0.  0.  0. -1.] \t\t 0.0\n",
      "15 \t [0. 0. 0. 0.] \t\t 0.0\n",
      "16 \t [0. 0. 0. 0.] \t\t 0.0\n",
      "17 \t [0. 0. 0. 0.] \t\t 0.0\n",
      "18 \t [0. 0. 0. 0.] \t\t 0.0\n",
      "19 \t [ 0.  0.  0. -1.] \t\t 0.0\n",
      "20 \t [ 0.  0.  0. -1.] \t\t 0.0\n",
      "21 \t [0. 0. 0. 0.] \t\t 0.0\n",
      "22 \t [0. 0. 0. 0.] \t\t 0.0\n",
      "23 \t [ 0.  0.  0. -1.] \t\t 0.0\n",
      "24 \t [ 0.  0.  0. -1.] \t\t 0.0\n",
      "25 \t [ 0.  0.  0. -1.] \t\t 0.0\n",
      "26 \t [0. 0. 0. 1.] \t\t 0.0\n",
      "27 \t [0. 0. 0. 1.] \t\t 0.0\n",
      "28 \t [0. 0. 1. 1.] \t\t 0.0\n",
      "29 \t [-1.  0.  0.  0.] \t\t 1.0\n"
     ]
    }
   ],
   "source": [
    "# OPTIMAL POLICY\n",
    "\n",
    "env = TMazeClassicPassive(episode_length=episode_timeout, \n",
    "                          corridor_length=corridor_length, \n",
    "                          goal_reward=desired_reward)\n",
    "\n",
    "obs = env.reset(seed=42)  # * {y, hint, flag, noise}\n",
    "x0 = env.x\n",
    "cue = obs[1]\n",
    "done = False\n",
    "step = 0\n",
    "R = 0\n",
    "\n",
    "obss = []\n",
    "while not done:\n",
    "    obss.append(env.render())\n",
    "    print(step,'\\t', obs, '\\t\\t', R)\n",
    "    a = 0 if step != corridor_length else (1 if cue == 1 else 3)\n",
    "    obs, r, done, info = env.step(a)\n",
    "    step += 1\n",
    "    R += r\n",
    "    x = env.x\n",
    "\n",
    "obss.append(env.render())\n",
    "env.close()\n",
    "\n",
    "print(step,'\\t', obs, '\\t\\t', R)"
   ]
  },
  {
   "cell_type": "code",
   "execution_count": 5,
   "metadata": {},
   "outputs": [
    {
     "name": "stdout",
     "output_type": "stream",
     "text": [
      "Moviepy - Building video __temp__.mp4.\n",
      "Moviepy - Writing video __temp__.mp4\n",
      "\n"
     ]
    },
    {
     "name": "stderr",
     "output_type": "stream",
     "text": [
      "                                                            \r"
     ]
    },
    {
     "name": "stdout",
     "output_type": "stream",
     "text": [
      "Moviepy - Done !\n",
      "Moviepy - video ready __temp__.mp4\n"
     ]
    },
    {
     "data": {
      "text/html": [
       "<div align=middle><video src='data:video/mp4;base64,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' controls>Sorry, seems like your browser doesn't support HTML5 audio/video</video></div>"
      ],
      "text/plain": [
       "<moviepy.video.io.html_tools.HTML2 object>"
      ]
     },
     "execution_count": 5,
     "metadata": {},
     "output_type": "execute_result"
    }
   ],
   "source": [
    "from moviepy.editor import ImageSequenceClip\n",
    "import numpy as np\n",
    "\n",
    "desired_resolution = (945, 540)\n",
    "original_aspect_ratio = 112 / 64\n",
    "width = int(desired_resolution[0] * original_aspect_ratio)\n",
    "height = desired_resolution[1]\n",
    "\n",
    "observations = [np.squeeze(o) for o in obss]\n",
    "\n",
    "# Create ImageSequenceClip\n",
    "clip = ImageSequenceClip(observations, fps=24)\n",
    "clip = clip.resize(width=width, height=height)\n",
    "\n",
    "# Display the modified clip\n",
    "clip.ipython_display(maxduration=120)"
   ]
  },
  {
   "cell_type": "code",
   "execution_count": null,
   "metadata": {},
   "outputs": [],
   "source": []
  }
 ],
 "metadata": {
  "kernelspec": {
   "display_name": "memory_rl_tmaze_flag",
   "language": "python",
   "name": "python3"
  },
  "language_info": {
   "codemirror_mode": {
    "name": "ipython",
    "version": 3
   },
   "file_extension": ".py",
   "mimetype": "text/x-python",
   "name": "python",
   "nbconvert_exporter": "python",
   "pygments_lexer": "ipython3",
   "version": "3.1.undefined"
  }
 },
 "nbformat": 4,
 "nbformat_minor": 2
}
