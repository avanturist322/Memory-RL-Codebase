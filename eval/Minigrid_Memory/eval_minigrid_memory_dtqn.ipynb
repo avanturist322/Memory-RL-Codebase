{
 "cells": [
  {
   "cell_type": "code",
   "execution_count": 1,
   "metadata": {},
   "outputs": [],
   "source": [
    "import sys\n",
    "sys.path.append(\"../../\")\n",
    "sys.path.append(\"../../models/DTQN\")\n",
    "\n",
    "from environments.Minigrid_Memory.env.env_minigrid import Minigrid  \n",
    "from models.DTQN.dtqn.agents.dtqn import DtqnAgent\n",
    "from models.DTQN.utils.agent_utils import get_agent\n",
    "\n",
    "import numpy as np\n",
    "import gym\n",
    "import matplotlib.pyplot as plt\n",
    "import random\n",
    "import torch\n",
    "import yaml"
   ]
  },
  {
   "cell_type": "code",
   "execution_count": 2,
   "metadata": {},
   "outputs": [],
   "source": [
    "env = Minigrid('MiniGrid-MemoryS13-v0', 31)\n"
   ]
  },
  {
   "cell_type": "code",
   "execution_count": 3,
   "metadata": {},
   "outputs": [
    {
     "name": "stdout",
     "output_type": "stream",
     "text": [
      "Box(0.0, 1.0, (3, 84, 84), float32) Discrete(3)\n",
      "Conv2d weigths init!\n",
      "Conv2d weigths init!\n",
      "Conv2d weigths init!\n",
      "LayerNorm weigths init!\n",
      "LayerNorm weigths init!\n",
      "LayerNorm weigths init!\n",
      "LayerNorm weigths init!\n",
      "LayerNorm weigths init!\n",
      "LayerNorm weigths init!\n",
      "LayerNorm weigths init!\n",
      "LayerNorm weigths init!\n",
      "LayerNorm weigths init!\n",
      "Conv2d weigths init!\n",
      "Conv2d weigths init!\n",
      "Conv2d weigths init!\n",
      "LayerNorm weigths init!\n",
      "LayerNorm weigths init!\n",
      "LayerNorm weigths init!\n",
      "LayerNorm weigths init!\n",
      "LayerNorm weigths init!\n",
      "LayerNorm weigths init!\n",
      "LayerNorm weigths init!\n",
      "LayerNorm weigths init!\n",
      "LayerNorm weigths init!\n",
      "Box(0.0, 1.0, (3, 84, 84), float32) Discrete(3)\n"
     ]
    }
   ],
   "source": [
    "config_path = '/opt/Memory-RL-Codebase/configs/DTQN_configs/MinigridMemory/MinigridMemory_LONG_TERM.yaml'\n",
    "device = torch.device('cuda:1')\n",
    "\n",
    "\n",
    "with open(config_path, 'r') as file:\n",
    "    args = yaml.safe_load(file)\n",
    "\n",
    "\n",
    "\n",
    "agent = get_agent(\n",
    "        args['model'],\n",
    "        env,\n",
    "        env,\n",
    "        args['obsembed'],\n",
    "        args['inembed'],\n",
    "        args['buf_size'],\n",
    "        device,\n",
    "        args['lr'],\n",
    "        args['batch'],\n",
    "        args['context'],\n",
    "        args['history'],\n",
    "        args['num_steps'],\n",
    "        # DTQN specific\n",
    "        args['heads'],\n",
    "        args['layers'],\n",
    "        args['dropout'],\n",
    "        args['identity'],\n",
    "        args['gate'],\n",
    "        args['pos'],\n",
    "    )\n"
   ]
  },
  {
   "cell_type": "code",
   "execution_count": 4,
   "metadata": {},
   "outputs": [
    {
     "data": {
      "text/plain": [
       "'tensorboard'"
      ]
     },
     "execution_count": 4,
     "metadata": {},
     "output_type": "execute_result"
    }
   ],
   "source": [
    "checkpoint_path = '/opt/Memory-RL-Codebase/autorun/checkpoints/MinigridMemory/MinigridMemory/DTQN/DTQN_MinigridMemory_LONG_TERM_static/2024_09_29-00_09_44.pt'\n",
    "agent.load_checkpoint(checkpoint_path)"
   ]
  },
  {
   "cell_type": "code",
   "execution_count": 5,
   "metadata": {},
   "outputs": [],
   "source": [
    "\n",
    "videos_dir = '/opt/Memory-RL-Codebase/eval/Minigrid_Memory/DTQN'\n",
    "\n",
    "run_name = checkpoint_path.split('/')[-1].strip('.pt')\n",
    "run_type = checkpoint_path.split('/')[-2]"
   ]
  },
  {
   "cell_type": "code",
   "execution_count": 6,
   "metadata": {},
   "outputs": [],
   "source": [
    "from itertools import permutations\n",
    "\n",
    "def generate_permutations(nums):\n",
    "\n",
    "    perms = permutations(nums)\n",
    "    result = [int(''.join(map(str, perm))) for perm in perms]\n",
    "    \n",
    "    return result\n",
    "\n",
    "nums = [1, 2, 3, 4, 5]\n",
    "eval_seeds = generate_permutations(nums)\n",
    "\n",
    "videos_limit = len(eval_seeds) + 1\n",
    "n_episode = len(eval_seeds)"
   ]
  },
  {
   "cell_type": "code",
   "execution_count": 7,
   "metadata": {},
   "outputs": [
    {
     "name": "stdout",
     "output_type": "stream",
     "text": [
      "Evaluate!\n"
     ]
    },
    {
     "data": {
      "image/png": "[encoded data removed]",
      "text/plain": [
       "<Figure size 640x480 with 1 Axes>"
      ]
     },
     "metadata": {},
     "output_type": "display_data"
    },
    {
     "name": "stdout",
     "output_type": "stream",
     "text": [
      "Action :0, obs: (3, 84, 84), reward: 0, terminated: False, info: {}\n",
      "Action :2, obs: (3, 84, 84), reward: 0, terminated: False, info: {}\n",
      "Action :2, obs: (3, 84, 84), reward: 0, terminated: False, info: {}\n",
      "Action :2, obs: (3, 84, 84), reward: 0, terminated: False, info: {}\n",
      "Action :0, obs: (3, 84, 84), reward: 0, terminated: False, info: {}\n",
      "Action :2, obs: (3, 84, 84), reward: 0, terminated: False, info: {}\n",
      "Action :2, obs: (3, 84, 84), reward: 0, terminated: False, info: {}\n",
      "Action :1, obs: (3, 84, 84), reward: 0, terminated: False, info: {}\n",
      "Action :1, obs: (3, 84, 84), reward: 0, terminated: False, info: {}\n",
      "Action :2, obs: (3, 84, 84), reward: 0, terminated: False, info: {}\n",
      "Action :0, obs: (3, 84, 84), reward: 0, terminated: False, info: {}\n",
      "Action :1, obs: (3, 84, 84), reward: 0, terminated: False, info: {}\n",
      "Action :2, obs: (3, 84, 84), reward: 0, terminated: False, info: {}\n",
      "Action :0, obs: (3, 84, 84), reward: 0, terminated: False, info: {}\n",
      "Action :1, obs: (3, 84, 84), reward: 0, terminated: False, info: {}\n",
      "Action :2, obs: (3, 84, 84), reward: 0, terminated: False, info: {}\n",
      "Action :0, obs: (3, 84, 84), reward: 0, terminated: False, info: {}\n",
      "Action :1, obs: (3, 84, 84), reward: 0, terminated: False, info: {}\n",
      "Action :2, obs: (3, 84, 84), reward: 0, terminated: False, info: {}\n",
      "Action :0, obs: (3, 84, 84), reward: 0, terminated: False, info: {}\n",
      "Action :1, obs: (3, 84, 84), reward: 0, terminated: False, info: {}\n",
      "Action :2, obs: (3, 84, 84), reward: 0, terminated: False, info: {}\n",
      "Action :0, obs: (3, 84, 84), reward: 0, terminated: False, info: {}\n",
      "Action :1, obs: (3, 84, 84), reward: 0, terminated: False, info: {}\n",
      "Action :2, obs: (3, 84, 84), reward: 0, terminated: False, info: {}\n",
      "Action :0, obs: (3, 84, 84), reward: 0, terminated: False, info: {}\n",
      "Action :1, obs: (3, 84, 84), reward: 0, terminated: False, info: {}\n",
      "Action :2, obs: (3, 84, 84), reward: 0, terminated: False, info: {}\n",
      "Action :0, obs: (3, 84, 84), reward: 0, terminated: False, info: {}\n",
      "Action :1, obs: (3, 84, 84), reward: 0, terminated: False, info: {}\n",
      "Action :2, obs: (3, 84, 84), reward: 0, terminated: False, info: {}\n",
      "Action :0, obs: (3, 84, 84), reward: 0, terminated: False, info: {}\n",
      "Action :1, obs: (3, 84, 84), reward: 0, terminated: False, info: {}\n",
      "Action :2, obs: (3, 84, 84), reward: 0, terminated: False, info: {}\n",
      "Action :0, obs: (3, 84, 84), reward: 0, terminated: False, info: {}\n",
      "Action :1, obs: (3, 84, 84), reward: 0, terminated: False, info: {}\n",
      "Action :2, obs: (3, 84, 84), reward: 0, terminated: False, info: {}\n",
      "Action :0, obs: (3, 84, 84), reward: 0, terminated: False, info: {}\n",
      "Action :1, obs: (3, 84, 84), reward: 0, terminated: False, info: {}\n",
      "Action :2, obs: (3, 84, 84), reward: 0, terminated: False, info: {}\n",
      "Action :2, obs: (3, 84, 84), reward: 0, terminated: False, info: {}\n",
      "Action :1, obs: (3, 84, 84), reward: 0, terminated: False, info: {}\n",
      "Action :1, obs: (3, 84, 84), reward: 0, terminated: False, info: {}\n",
      "Action :0, obs: (3, 84, 84), reward: 0, terminated: False, info: {}\n",
      "Action :2, obs: (3, 84, 84), reward: 0, terminated: True, info: {'reward': 0, 'length': 45}\n",
      "Episode terminated. Episode reward: 0\n",
      "Moviepy - Building video /opt/Memory-RL-Codebase/eval/Minigrid_Memory/DTQN/DTQN_MinigridMemory_LONG_TERM_static/2024_09_29-00_09_44/2024_09_29-00_09_44_seed=12345_reward=0.0.mp4.\n",
      "Moviepy - Writing video /opt/Memory-RL-Codebase/eval/Minigrid_Memory/DTQN/DTQN_MinigridMemory_LONG_TERM_static/2024_09_29-00_09_44/2024_09_29-00_09_44_seed=12345_reward=0.0.mp4\n",
      "\n"
     ]
    },
    {
     "name": "stderr",
     "output_type": "stream",
     "text": [
      "                                                            \r"
     ]
    },
    {
     "name": "stdout",
     "output_type": "stream",
     "text": [
      "Moviepy - Done !\n",
      "Moviepy - video ready /opt/Memory-RL-Codebase/eval/Minigrid_Memory/DTQN/DTQN_MinigridMemory_LONG_TERM_static/2024_09_29-00_09_44/2024_09_29-00_09_44_seed=12345_reward=0.0.mp4\n",
      "Action :0, obs: (3, 84, 84), reward: 0, terminated: False, info: {}\n",
      "Action :2, obs: (3, 84, 84), reward: 0, terminated: False, info: {}\n",
      "Action :2, obs: (3, 84, 84), reward: 0, terminated: False, info: {}\n",
      "Action :2, obs: (3, 84, 84), reward: 0, terminated: False, info: {}\n",
      "Action :0, obs: (3, 84, 84), reward: 0, terminated: False, info: {}\n",
      "Action :2, obs: (3, 84, 84), reward: 0, terminated: False, info: {}\n",
      "Action :2, obs: (3, 84, 84), reward: 0, terminated: False, info: {}\n",
      "Action :1, obs: (3, 84, 84), reward: 0, terminated: False, info: {}\n",
      "Action :1, obs: (3, 84, 84), reward: 0, terminated: False, info: {}\n",
      "Action :2, obs: (3, 84, 84), reward: 0, terminated: False, info: {}\n",
      "Action :0, obs: (3, 84, 84), reward: 0, terminated: False, info: {}\n",
      "Action :1, obs: (3, 84, 84), reward: 0, terminated: False, info: {}\n",
      "Action :2, obs: (3, 84, 84), reward: 0, terminated: False, info: {}\n",
      "Action :0, obs: (3, 84, 84), reward: 0, terminated: False, info: {}\n",
      "Action :1, obs: (3, 84, 84), reward: 0, terminated: False, info: {}\n",
      "Action :2, obs: (3, 84, 84), reward: 0, terminated: False, info: {}\n",
      "Action :0, obs: (3, 84, 84), reward: 0, terminated: False, info: {}\n",
      "Action :1, obs: (3, 84, 84), reward: 0, terminated: False, info: {}\n",
      "Action :2, obs: (3, 84, 84), reward: 0, terminated: False, info: {}\n",
      "Action :0, obs: (3, 84, 84), reward: 0, terminated: False, info: {}\n",
      "Action :1, obs: (3, 84, 84), reward: 0, terminated: False, info: {}\n",
      "Action :2, obs: (3, 84, 84), reward: 0, terminated: False, info: {}\n",
      "Action :0, obs: (3, 84, 84), reward: 0, terminated: False, info: {}\n",
      "Action :1, obs: (3, 84, 84), reward: 0, terminated: False, info: {}\n",
      "Action :2, obs: (3, 84, 84), reward: 0, terminated: False, info: {}\n",
      "Action :0, obs: (3, 84, 84), reward: 0, terminated: False, info: {}\n",
      "Action :1, obs: (3, 84, 84), reward: 0, terminated: False, info: {}\n",
      "Action :2, obs: (3, 84, 84), reward: 0, terminated: False, info: {}\n",
      "Action :0, obs: (3, 84, 84), reward: 0, terminated: False, info: {}\n",
      "Action :1, obs: (3, 84, 84), reward: 0, terminated: False, info: {}\n",
      "Action :2, obs: (3, 84, 84), reward: 0, terminated: False, info: {}\n",
      "Action :0, obs: (3, 84, 84), reward: 0, terminated: False, info: {}\n",
      "Action :1, obs: (3, 84, 84), reward: 0, terminated: False, info: {}\n",
      "Action :2, obs: (3, 84, 84), reward: 0, terminated: False, info: {}\n",
      "Action :0, obs: (3, 84, 84), reward: 0, terminated: False, info: {}\n",
      "Action :1, obs: (3, 84, 84), reward: 0, terminated: False, info: {}\n",
      "Action :2, obs: (3, 84, 84), reward: 0, terminated: False, info: {}\n",
      "Action :0, obs: (3, 84, 84), reward: 0, terminated: False, info: {}\n",
      "Action :1, obs: (3, 84, 84), reward: 0, terminated: False, info: {}\n",
      "Action :2, obs: (3, 84, 84), reward: 0, terminated: False, info: {}\n",
      "Action :0, obs: (3, 84, 84), reward: 0, terminated: False, info: {}\n",
      "Action :1, obs: (3, 84, 84), reward: 0, terminated: False, info: {}\n",
      "Action :2, obs: (3, 84, 84), reward: 0, terminated: False, info: {}\n",
      "Action :0, obs: (3, 84, 84), reward: 0, terminated: False, info: {}\n",
      "Action :1, obs: (3, 84, 84), reward: 0, terminated: False, info: {}\n",
      "Action :2, obs: (3, 84, 84), reward: 0, terminated: False, info: {}\n",
      "Action :0, obs: (3, 84, 84), reward: 0, terminated: False, info: {}\n",
      "Action :1, obs: (3, 84, 84), reward: 0, terminated: False, info: {}\n",
      "Action :2, obs: (3, 84, 84), reward: 0, terminated: False, info: {}\n",
      "Action :2, obs: (3, 84, 84), reward: 0, terminated: False, info: {}\n",
      "Action :1, obs: (3, 84, 84), reward: 0, terminated: False, info: {}\n",
      "Action :2, obs: (3, 84, 84), reward: 0, terminated: True, info: {'reward': 0, 'length': 52}\n",
      "Episode terminated. Episode reward: 0\n",
      "Moviepy - Building video /opt/Memory-RL-Codebase/eval/Minigrid_Memory/DTQN/DTQN_MinigridMemory_LONG_TERM_static/2024_09_29-00_09_44/2024_09_29-00_09_44_seed=12354_reward=0.0.mp4.\n",
      "Moviepy - Writing video /opt/Memory-RL-Codebase/eval/Minigrid_Memory/DTQN/DTQN_MinigridMemory_LONG_TERM_static/2024_09_29-00_09_44/2024_09_29-00_09_44_seed=12354_reward=0.0.mp4\n",
      "\n"
     ]
    },
    {
     "name": "stderr",
     "output_type": "stream",
     "text": [
      "                                                            \r"
     ]
    },
    {
     "name": "stdout",
     "output_type": "stream",
     "text": [
      "Moviepy - Done !\n",
      "Moviepy - video ready /opt/Memory-RL-Codebase/eval/Minigrid_Memory/DTQN/DTQN_MinigridMemory_LONG_TERM_static/2024_09_29-00_09_44/2024_09_29-00_09_44_seed=12354_reward=0.0.mp4\n",
      "Action :0, obs: (3, 84, 84), reward: 0, terminated: False, info: {}\n",
      "Action :2, obs: (3, 84, 84), reward: 0, terminated: False, info: {}\n",
      "Action :2, obs: (3, 84, 84), reward: 0, terminated: False, info: {}\n",
      "Action :2, obs: (3, 84, 84), reward: 0, terminated: False, info: {}\n",
      "Action :0, obs: (3, 84, 84), reward: 0, terminated: False, info: {}\n",
      "Action :2, obs: (3, 84, 84), reward: 0, terminated: False, info: {}\n",
      "Action :2, obs: (3, 84, 84), reward: 0, terminated: False, info: {}\n",
      "Action :1, obs: (3, 84, 84), reward: 0, terminated: False, info: {}\n",
      "Action :1, obs: (3, 84, 84), reward: 0, terminated: False, info: {}\n",
      "Action :2, obs: (3, 84, 84), reward: 0, terminated: False, info: {}\n",
      "Action :0, obs: (3, 84, 84), reward: 0, terminated: False, info: {}\n",
      "Action :1, obs: (3, 84, 84), reward: 0, terminated: False, info: {}\n",
      "Action :2, obs: (3, 84, 84), reward: 0, terminated: False, info: {}\n",
      "Action :0, obs: (3, 84, 84), reward: 0, terminated: False, info: {}\n",
      "Action :1, obs: (3, 84, 84), reward: 0, terminated: False, info: {}\n",
      "Action :2, obs: (3, 84, 84), reward: 0, terminated: False, info: {}\n",
      "Action :0, obs: (3, 84, 84), reward: 0, terminated: False, info: {}\n",
      "Action :1, obs: (3, 84, 84), reward: 0, terminated: False, info: {}\n",
      "Action :2, obs: (3, 84, 84), reward: 0, terminated: False, info: {}\n",
      "Action :0, obs: (3, 84, 84), reward: 0, terminated: False, info: {}\n",
      "Action :1, obs: (3, 84, 84), reward: 0, terminated: False, info: {}\n",
      "Action :2, obs: (3, 84, 84), reward: 0, terminated: False, info: {}\n",
      "Action :0, obs: (3, 84, 84), reward: 0, terminated: False, info: {}\n",
      "Action :1, obs: (3, 84, 84), reward: 0, terminated: False, info: {}\n",
      "Action :2, obs: (3, 84, 84), reward: 0, terminated: False, info: {}\n",
      "Action :0, obs: (3, 84, 84), reward: 0, terminated: False, info: {}\n",
      "Action :1, obs: (3, 84, 84), reward: 0, terminated: False, info: {}\n",
      "Action :2, obs: (3, 84, 84), reward: 0, terminated: False, info: {}\n",
      "Action :0, obs: (3, 84, 84), reward: 0, terminated: False, info: {}\n",
      "Action :1, obs: (3, 84, 84), reward: 0, terminated: False, info: {}\n",
      "Action :2, obs: (3, 84, 84), reward: 0, terminated: False, info: {}\n",
      "Action :0, obs: (3, 84, 84), reward: 0, terminated: False, info: {}\n",
      "Action :1, obs: (3, 84, 84), reward: 0, terminated: False, info: {}\n",
      "Action :2, obs: (3, 84, 84), reward: 0, terminated: False, info: {}\n",
      "Action :0, obs: (3, 84, 84), reward: 0, terminated: False, info: {}\n",
      "Action :1, obs: (3, 84, 84), reward: 0, terminated: False, info: {}\n",
      "Action :2, obs: (3, 84, 84), reward: 0, terminated: False, info: {}\n",
      "Action :2, obs: (3, 84, 84), reward: 0, terminated: False, info: {}\n",
      "Action :1, obs: (3, 84, 84), reward: 0, terminated: False, info: {}\n",
      "Action :2, obs: (3, 84, 84), reward: 0.9573964497041421, terminated: True, info: {'reward': 0.9573964497041421, 'length': 40}\n",
      "Episode terminated. Episode reward: 0.9573964497041421\n",
      "Moviepy - Building video /opt/Memory-RL-Codebase/eval/Minigrid_Memory/DTQN/DTQN_MinigridMemory_LONG_TERM_static/2024_09_29-00_09_44/2024_09_29-00_09_44_seed=12435_reward=0.96.mp4.\n",
      "Moviepy - Writing video /opt/Memory-RL-Codebase/eval/Minigrid_Memory/DTQN/DTQN_MinigridMemory_LONG_TERM_static/2024_09_29-00_09_44/2024_09_29-00_09_44_seed=12435_reward=0.96.mp4\n",
      "\n"
     ]
    },
    {
     "name": "stderr",
     "output_type": "stream",
     "text": [
      "                                                            \r"
     ]
    },
    {
     "name": "stdout",
     "output_type": "stream",
     "text": [
      "Moviepy - Done !\n",
      "Moviepy - video ready /opt/Memory-RL-Codebase/eval/Minigrid_Memory/DTQN/DTQN_MinigridMemory_LONG_TERM_static/2024_09_29-00_09_44/2024_09_29-00_09_44_seed=12435_reward=0.96.mp4\n",
      "Action :0, obs: (3, 84, 84), reward: 0, terminated: False, info: {}\n",
      "Action :2, obs: (3, 84, 84), reward: 0, terminated: False, info: {}\n",
      "Action :2, obs: (3, 84, 84), reward: 0, terminated: False, info: {}\n",
      "Action :2, obs: (3, 84, 84), reward: 0, terminated: False, info: {}\n",
      "Action :0, obs: (3, 84, 84), reward: 0, terminated: False, info: {}\n",
      "Action :2, obs: (3, 84, 84), reward: 0, terminated: False, info: {}\n",
      "Action :2, obs: (3, 84, 84), reward: 0, terminated: False, info: {}\n",
      "Action :1, obs: (3, 84, 84), reward: 0, terminated: False, info: {}\n",
      "Action :1, obs: (3, 84, 84), reward: 0, terminated: False, info: {}\n",
      "Action :2, obs: (3, 84, 84), reward: 0, terminated: False, info: {}\n",
      "Action :0, obs: (3, 84, 84), reward: 0, terminated: False, info: {}\n",
      "Action :1, obs: (3, 84, 84), reward: 0, terminated: False, info: {}\n",
      "Action :2, obs: (3, 84, 84), reward: 0, terminated: False, info: {}\n",
      "Action :0, obs: (3, 84, 84), reward: 0, terminated: False, info: {}\n",
      "Action :1, obs: (3, 84, 84), reward: 0, terminated: False, info: {}\n",
      "Action :2, obs: (3, 84, 84), reward: 0, terminated: False, info: {}\n",
      "Action :0, obs: (3, 84, 84), reward: 0, terminated: False, info: {}\n",
      "Action :1, obs: (3, 84, 84), reward: 0, terminated: False, info: {}\n",
      "Action :2, obs: (3, 84, 84), reward: 0, terminated: False, info: {}\n",
      "Action :0, obs: (3, 84, 84), reward: 0, terminated: False, info: {}\n",
      "Action :1, obs: (3, 84, 84), reward: 0, terminated: False, info: {}\n",
      "Action :2, obs: (3, 84, 84), reward: 0, terminated: False, info: {}\n",
      "Action :0, obs: (3, 84, 84), reward: 0, terminated: False, info: {}\n",
      "Action :1, obs: (3, 84, 84), reward: 0, terminated: False, info: {}\n",
      "Action :2, obs: (3, 84, 84), reward: 0, terminated: False, info: {}\n",
      "Action :0, obs: (3, 84, 84), reward: 0, terminated: False, info: {}\n",
      "Action :1, obs: (3, 84, 84), reward: 0, terminated: False, info: {}\n",
      "Action :2, obs: (3, 84, 84), reward: 0, terminated: False, info: {}\n",
      "Action :0, obs: (3, 84, 84), reward: 0, terminated: False, info: {}\n",
      "Action :1, obs: (3, 84, 84), reward: 0, terminated: False, info: {}\n",
      "Action :2, obs: (3, 84, 84), reward: 0, terminated: False, info: {}\n",
      "Action :0, obs: (3, 84, 84), reward: 0, terminated: False, info: {}\n",
      "Action :1, obs: (3, 84, 84), reward: 0, terminated: False, info: {}\n",
      "Action :2, obs: (3, 84, 84), reward: 0, terminated: False, info: {}\n",
      "Action :0, obs: (3, 84, 84), reward: 0, terminated: False, info: {}\n",
      "Action :1, obs: (3, 84, 84), reward: 0, terminated: False, info: {}\n",
      "Action :2, obs: (3, 84, 84), reward: 0, terminated: False, info: {}\n",
      "Action :0, obs: (3, 84, 84), reward: 0, terminated: False, info: {}\n",
      "Action :1, obs: (3, 84, 84), reward: 0, terminated: False, info: {}\n",
      "Action :2, obs: (3, 84, 84), reward: 0, terminated: False, info: {}\n",
      "Action :2, obs: (3, 84, 84), reward: 0, terminated: False, info: {}\n",
      "Action :1, obs: (3, 84, 84), reward: 0, terminated: False, info: {}\n",
      "Action :1, obs: (3, 84, 84), reward: 0, terminated: False, info: {}\n",
      "Action :0, obs: (3, 84, 84), reward: 0, terminated: False, info: {}\n",
      "Action :2, obs: (3, 84, 84), reward: 0, terminated: True, info: {'reward': 0, 'length': 45}\n",
      "Episode terminated. Episode reward: 0\n",
      "Moviepy - Building video /opt/Memory-RL-Codebase/eval/Minigrid_Memory/DTQN/DTQN_MinigridMemory_LONG_TERM_static/2024_09_29-00_09_44/2024_09_29-00_09_44_seed=12453_reward=0.0.mp4.\n",
      "Moviepy - Writing video /opt/Memory-RL-Codebase/eval/Minigrid_Memory/DTQN/DTQN_MinigridMemory_LONG_TERM_static/2024_09_29-00_09_44/2024_09_29-00_09_44_seed=12453_reward=0.0.mp4\n",
      "\n"
     ]
    },
    {
     "name": "stderr",
     "output_type": "stream",
     "text": [
      "                                                            \r"
     ]
    },
    {
     "name": "stdout",
     "output_type": "stream",
     "text": [
      "Moviepy - Done !\n",
      "Moviepy - video ready /opt/Memory-RL-Codebase/eval/Minigrid_Memory/DTQN/DTQN_MinigridMemory_LONG_TERM_static/2024_09_29-00_09_44/2024_09_29-00_09_44_seed=12453_reward=0.0.mp4\n",
      "Action :0, obs: (3, 84, 84), reward: 0, terminated: False, info: {}\n",
      "Action :2, obs: (3, 84, 84), reward: 0, terminated: False, info: {}\n",
      "Action :2, obs: (3, 84, 84), reward: 0, terminated: False, info: {}\n",
      "Action :2, obs: (3, 84, 84), reward: 0, terminated: False, info: {}\n",
      "Action :0, obs: (3, 84, 84), reward: 0, terminated: False, info: {}\n",
      "Action :2, obs: (3, 84, 84), reward: 0, terminated: False, info: {}\n",
      "Action :2, obs: (3, 84, 84), reward: 0, terminated: False, info: {}\n",
      "Action :1, obs: (3, 84, 84), reward: 0, terminated: False, info: {}\n",
      "Action :1, obs: (3, 84, 84), reward: 0, terminated: False, info: {}\n",
      "Action :2, obs: (3, 84, 84), reward: 0, terminated: False, info: {}\n",
      "Action :0, obs: (3, 84, 84), reward: 0, terminated: False, info: {}\n",
      "Action :1, obs: (3, 84, 84), reward: 0, terminated: False, info: {}\n",
      "Action :2, obs: (3, 84, 84), reward: 0, terminated: False, info: {}\n",
      "Action :0, obs: (3, 84, 84), reward: 0, terminated: False, info: {}\n",
      "Action :1, obs: (3, 84, 84), reward: 0, terminated: False, info: {}\n",
      "Action :2, obs: (3, 84, 84), reward: 0, terminated: False, info: {}\n",
      "Action :0, obs: (3, 84, 84), reward: 0, terminated: False, info: {}\n",
      "Action :1, obs: (3, 84, 84), reward: 0, terminated: False, info: {}\n",
      "Action :2, obs: (3, 84, 84), reward: 0, terminated: False, info: {}\n",
      "Action :0, obs: (3, 84, 84), reward: 0, terminated: False, info: {}\n",
      "Action :1, obs: (3, 84, 84), reward: 0, terminated: False, info: {}\n",
      "Action :2, obs: (3, 84, 84), reward: 0, terminated: False, info: {}\n",
      "Action :0, obs: (3, 84, 84), reward: 0, terminated: False, info: {}\n",
      "Action :1, obs: (3, 84, 84), reward: 0, terminated: False, info: {}\n",
      "Action :2, obs: (3, 84, 84), reward: 0, terminated: False, info: {}\n",
      "Action :0, obs: (3, 84, 84), reward: 0, terminated: False, info: {}\n",
      "Action :1, obs: (3, 84, 84), reward: 0, terminated: False, info: {}\n",
      "Action :2, obs: (3, 84, 84), reward: 0, terminated: False, info: {}\n",
      "Action :0, obs: (3, 84, 84), reward: 0, terminated: False, info: {}\n",
      "Action :1, obs: (3, 84, 84), reward: 0, terminated: False, info: {}\n",
      "Action :2, obs: (3, 84, 84), reward: 0, terminated: False, info: {}\n",
      "Action :0, obs: (3, 84, 84), reward: 0, terminated: False, info: {}\n",
      "Action :1, obs: (3, 84, 84), reward: 0, terminated: False, info: {}\n",
      "Action :2, obs: (3, 84, 84), reward: 0, terminated: False, info: {}\n"
     ]
    },
    {
     "ename": "KeyboardInterrupt",
     "evalue": "",
     "output_type": "error",
     "traceback": [
      "\u001b[0;31m---------------------------------------------------------------------------\u001b[0m",
      "\u001b[0;31mKeyboardInterrupt\u001b[0m                         Traceback (most recent call last)",
      "Cell \u001b[0;32mIn[7], line 1\u001b[0m\n\u001b[0;32m----> 1\u001b[0m \u001b[43magent\u001b[49m\u001b[38;5;241;43m.\u001b[39;49m\u001b[43mevaluate\u001b[49m\u001b[43m(\u001b[49m\u001b[43mn_episode\u001b[49m\u001b[43m \u001b[49m\u001b[38;5;241;43m=\u001b[39;49m\u001b[43m \u001b[49m\u001b[43mn_episode\u001b[49m\u001b[43m,\u001b[49m\u001b[43m \u001b[49m\u001b[43meval_seeds\u001b[49m\u001b[43m \u001b[49m\u001b[38;5;241;43m=\u001b[39;49m\u001b[43m \u001b[49m\u001b[43meval_seeds\u001b[49m\u001b[43m,\u001b[49m\u001b[43m \u001b[49m\u001b[43mrender\u001b[49m\u001b[43m \u001b[49m\u001b[38;5;241;43m=\u001b[39;49m\u001b[43m \u001b[49m\u001b[38;5;28;43;01mTrue\u001b[39;49;00m\u001b[43m,\u001b[49m\u001b[43m \u001b[49m\u001b[43mvideos_limit\u001b[49m\u001b[43m \u001b[49m\u001b[38;5;241;43m=\u001b[39;49m\u001b[43m \u001b[49m\u001b[43mvideos_limit\u001b[49m\u001b[43m,\u001b[49m\u001b[43m \u001b[49m\u001b[43mvideos_dir\u001b[49m\u001b[43m \u001b[49m\u001b[38;5;241;43m=\u001b[39;49m\u001b[43m \u001b[49m\u001b[43mvideos_dir\u001b[49m\u001b[43m,\u001b[49m\u001b[43m \u001b[49m\u001b[43mrun_name\u001b[49m\u001b[43m \u001b[49m\u001b[38;5;241;43m=\u001b[39;49m\u001b[43m \u001b[49m\u001b[43mrun_name\u001b[49m\u001b[43m,\u001b[49m\u001b[43m \u001b[49m\u001b[43mrun_type\u001b[49m\u001b[43m \u001b[49m\u001b[38;5;241;43m=\u001b[39;49m\u001b[43mrun_type\u001b[49m\u001b[43m \u001b[49m\u001b[43m)\u001b[49m\n",
      "File \u001b[0;32m/opt/Memory-RL-Codebase/eval/Minigrid_Memory/../../models/DTQN/dtqn/agents/dtqn.py:439\u001b[0m, in \u001b[0;36mDtqnAgent.evaluate\u001b[0;34m(self, n_episode, eval_seeds, render, videos_limit, videos_dir, run_name, run_type)\u001b[0m\n\u001b[1;32m    437\u001b[0m ep_reward \u001b[38;5;241m+\u001b[39m\u001b[38;5;241m=\u001b[39m reward\n\u001b[1;32m    438\u001b[0m \u001b[38;5;28;01mif\u001b[39;00m render \u001b[38;5;129;01mand\u001b[39;00m i \u001b[38;5;241m<\u001b[39m videos_limit:\n\u001b[0;32m--> 439\u001b[0m     rofl \u001b[38;5;241m=\u001b[39m \u001b[38;5;28;43mself\u001b[39;49m\u001b[38;5;241;43m.\u001b[39;49m\u001b[43meval_env\u001b[49m\u001b[38;5;241;43m.\u001b[39;49m\u001b[43mrender\u001b[49m\u001b[43m(\u001b[49m\u001b[43m)\u001b[49m\n\u001b[1;32m    440\u001b[0m     \u001b[38;5;28;01mif\u001b[39;00m done:\n\u001b[1;32m    441\u001b[0m         \u001b[38;5;28mprint\u001b[39m(\u001b[38;5;124mf\u001b[39m\u001b[38;5;124m\"\u001b[39m\u001b[38;5;124mEpisode terminated. Episode reward: \u001b[39m\u001b[38;5;132;01m{\u001b[39;00mep_reward\u001b[38;5;132;01m}\u001b[39;00m\u001b[38;5;124m\"\u001b[39m)\n",
      "File \u001b[0;32m/opt/Memory-RL-Codebase/eval/Minigrid_Memory/../../environments/Minigrid_Memory/env/env_minigrid.py:95\u001b[0m, in \u001b[0;36mMinigrid.render\u001b[0;34m(self)\u001b[0m\n\u001b[1;32m     94\u001b[0m \u001b[38;5;28;01mdef\u001b[39;00m \u001b[38;5;21mrender\u001b[39m(\u001b[38;5;28mself\u001b[39m):\n\u001b[0;32m---> 95\u001b[0m     img \u001b[38;5;241m=\u001b[39m \u001b[38;5;28;43mself\u001b[39;49m\u001b[38;5;241;43m.\u001b[39;49m\u001b[43m_env\u001b[49m\u001b[38;5;241;43m.\u001b[39;49m\u001b[43mrender\u001b[49m\u001b[43m(\u001b[49m\u001b[43mtile_size\u001b[49m\u001b[43m \u001b[49m\u001b[38;5;241;43m=\u001b[39;49m\u001b[43m \u001b[49m\u001b[38;5;241;43m96\u001b[39;49m\u001b[43m)\u001b[49m\n\u001b[1;32m     96\u001b[0m     plt\u001b[38;5;241m.\u001b[39mclose()\n\u001b[1;32m     97\u001b[0m     \u001b[38;5;66;03m# time.sleep(0.5)\u001b[39;00m\n",
      "File \u001b[0;32m/usr/local/lib/python3.8/dist-packages/gym/core.py:240\u001b[0m, in \u001b[0;36mWrapper.render\u001b[0;34m(self, mode, **kwargs)\u001b[0m\n\u001b[1;32m    239\u001b[0m \u001b[38;5;28;01mdef\u001b[39;00m \u001b[38;5;21mrender\u001b[39m(\u001b[38;5;28mself\u001b[39m, mode\u001b[38;5;241m=\u001b[39m\u001b[38;5;124m'\u001b[39m\u001b[38;5;124mhuman\u001b[39m\u001b[38;5;124m'\u001b[39m, \u001b[38;5;241m*\u001b[39m\u001b[38;5;241m*\u001b[39mkwargs):\n\u001b[0;32m--> 240\u001b[0m     \u001b[38;5;28;01mreturn\u001b[39;00m \u001b[38;5;28;43mself\u001b[39;49m\u001b[38;5;241;43m.\u001b[39;49m\u001b[43menv\u001b[49m\u001b[38;5;241;43m.\u001b[39;49m\u001b[43mrender\u001b[49m\u001b[43m(\u001b[49m\u001b[43mmode\u001b[49m\u001b[43m,\u001b[49m\u001b[43m \u001b[49m\u001b[38;5;241;43m*\u001b[39;49m\u001b[38;5;241;43m*\u001b[39;49m\u001b[43mkwargs\u001b[49m\u001b[43m)\u001b[49m\n",
      "File \u001b[0;32m/usr/local/lib/python3.8/dist-packages/gym/core.py:240\u001b[0m, in \u001b[0;36mWrapper.render\u001b[0;34m(self, mode, **kwargs)\u001b[0m\n\u001b[1;32m    239\u001b[0m \u001b[38;5;28;01mdef\u001b[39;00m \u001b[38;5;21mrender\u001b[39m(\u001b[38;5;28mself\u001b[39m, mode\u001b[38;5;241m=\u001b[39m\u001b[38;5;124m'\u001b[39m\u001b[38;5;124mhuman\u001b[39m\u001b[38;5;124m'\u001b[39m, \u001b[38;5;241m*\u001b[39m\u001b[38;5;241m*\u001b[39mkwargs):\n\u001b[0;32m--> 240\u001b[0m     \u001b[38;5;28;01mreturn\u001b[39;00m \u001b[38;5;28;43mself\u001b[39;49m\u001b[38;5;241;43m.\u001b[39;49m\u001b[43menv\u001b[49m\u001b[38;5;241;43m.\u001b[39;49m\u001b[43mrender\u001b[49m\u001b[43m(\u001b[49m\u001b[43mmode\u001b[49m\u001b[43m,\u001b[49m\u001b[43m \u001b[49m\u001b[38;5;241;43m*\u001b[39;49m\u001b[38;5;241;43m*\u001b[39;49m\u001b[43mkwargs\u001b[49m\u001b[43m)\u001b[49m\n",
      "File \u001b[0;32m/usr/local/lib/python3.8/dist-packages/gym/core.py:240\u001b[0m, in \u001b[0;36mWrapper.render\u001b[0;34m(self, mode, **kwargs)\u001b[0m\n\u001b[1;32m    239\u001b[0m \u001b[38;5;28;01mdef\u001b[39;00m \u001b[38;5;21mrender\u001b[39m(\u001b[38;5;28mself\u001b[39m, mode\u001b[38;5;241m=\u001b[39m\u001b[38;5;124m'\u001b[39m\u001b[38;5;124mhuman\u001b[39m\u001b[38;5;124m'\u001b[39m, \u001b[38;5;241m*\u001b[39m\u001b[38;5;241m*\u001b[39mkwargs):\n\u001b[0;32m--> 240\u001b[0m     \u001b[38;5;28;01mreturn\u001b[39;00m \u001b[38;5;28;43mself\u001b[39;49m\u001b[38;5;241;43m.\u001b[39;49m\u001b[43menv\u001b[49m\u001b[38;5;241;43m.\u001b[39;49m\u001b[43mrender\u001b[49m\u001b[43m(\u001b[49m\u001b[43mmode\u001b[49m\u001b[43m,\u001b[49m\u001b[43m \u001b[49m\u001b[38;5;241;43m*\u001b[39;49m\u001b[38;5;241;43m*\u001b[39;49m\u001b[43mkwargs\u001b[49m\u001b[43m)\u001b[49m\n",
      "File \u001b[0;32m/usr/local/lib/python3.8/dist-packages/gym_minigrid/minigrid.py:1292\u001b[0m, in \u001b[0;36mMiniGridEnv.render\u001b[0;34m(self, mode, close, highlight, tile_size)\u001b[0m\n\u001b[1;32m   1284\u001b[0m img \u001b[38;5;241m=\u001b[39m \u001b[38;5;28mself\u001b[39m\u001b[38;5;241m.\u001b[39mgrid\u001b[38;5;241m.\u001b[39mrender(\n\u001b[1;32m   1285\u001b[0m     tile_size,\n\u001b[1;32m   1286\u001b[0m     \u001b[38;5;28mself\u001b[39m\u001b[38;5;241m.\u001b[39magent_pos,\n\u001b[1;32m   1287\u001b[0m     \u001b[38;5;28mself\u001b[39m\u001b[38;5;241m.\u001b[39magent_dir,\n\u001b[1;32m   1288\u001b[0m     highlight_mask\u001b[38;5;241m=\u001b[39mhighlight_mask \u001b[38;5;28;01mif\u001b[39;00m highlight \u001b[38;5;28;01melse\u001b[39;00m \u001b[38;5;28;01mNone\u001b[39;00m\n\u001b[1;32m   1289\u001b[0m )\n\u001b[1;32m   1291\u001b[0m \u001b[38;5;28;01mif\u001b[39;00m mode \u001b[38;5;241m==\u001b[39m \u001b[38;5;124m'\u001b[39m\u001b[38;5;124mhuman\u001b[39m\u001b[38;5;124m'\u001b[39m:\n\u001b[0;32m-> 1292\u001b[0m     \u001b[38;5;28;43mself\u001b[39;49m\u001b[38;5;241;43m.\u001b[39;49m\u001b[43mwindow\u001b[49m\u001b[38;5;241;43m.\u001b[39;49m\u001b[43mshow_img\u001b[49m\u001b[43m(\u001b[49m\u001b[43mimg\u001b[49m\u001b[43m)\u001b[49m\n\u001b[1;32m   1293\u001b[0m     \u001b[38;5;28mself\u001b[39m\u001b[38;5;241m.\u001b[39mwindow\u001b[38;5;241m.\u001b[39mset_caption(\u001b[38;5;28mself\u001b[39m\u001b[38;5;241m.\u001b[39mmission)\n\u001b[1;32m   1295\u001b[0m \u001b[38;5;28;01mreturn\u001b[39;00m img\n",
      "File \u001b[0;32m/usr/local/lib/python3.8/dist-packages/gym_minigrid/window.py:52\u001b[0m, in \u001b[0;36mWindow.show_img\u001b[0;34m(self, img)\u001b[0m\n\u001b[1;32m     49\u001b[0m     \u001b[38;5;28mself\u001b[39m\u001b[38;5;241m.\u001b[39mimshow_obj \u001b[38;5;241m=\u001b[39m \u001b[38;5;28mself\u001b[39m\u001b[38;5;241m.\u001b[39max\u001b[38;5;241m.\u001b[39mimshow(img, interpolation\u001b[38;5;241m=\u001b[39m\u001b[38;5;124m'\u001b[39m\u001b[38;5;124mbilinear\u001b[39m\u001b[38;5;124m'\u001b[39m)\n\u001b[1;32m     51\u001b[0m \u001b[38;5;28mself\u001b[39m\u001b[38;5;241m.\u001b[39mimshow_obj\u001b[38;5;241m.\u001b[39mset_data(img)\n\u001b[0;32m---> 52\u001b[0m \u001b[38;5;28;43mself\u001b[39;49m\u001b[38;5;241;43m.\u001b[39;49m\u001b[43mfig\u001b[49m\u001b[38;5;241;43m.\u001b[39;49m\u001b[43mcanvas\u001b[49m\u001b[38;5;241;43m.\u001b[39;49m\u001b[43mdraw\u001b[49m\u001b[43m(\u001b[49m\u001b[43m)\u001b[49m\n\u001b[1;32m     54\u001b[0m \u001b[38;5;66;03m# Let matplotlib process UI events\u001b[39;00m\n\u001b[1;32m     55\u001b[0m \u001b[38;5;66;03m# This is needed for interactive mode to work properly\u001b[39;00m\n\u001b[1;32m     56\u001b[0m plt\u001b[38;5;241m.\u001b[39mpause(\u001b[38;5;241m0.001\u001b[39m)\n",
      "File \u001b[0;32m/usr/local/lib/python3.8/dist-packages/matplotlib/backends/backend_agg.py:400\u001b[0m, in \u001b[0;36mFigureCanvasAgg.draw\u001b[0;34m(self)\u001b[0m\n\u001b[1;32m    396\u001b[0m \u001b[38;5;66;03m# Acquire a lock on the shared font cache.\u001b[39;00m\n\u001b[1;32m    397\u001b[0m \u001b[38;5;28;01mwith\u001b[39;00m RendererAgg\u001b[38;5;241m.\u001b[39mlock, \\\n\u001b[1;32m    398\u001b[0m      (\u001b[38;5;28mself\u001b[39m\u001b[38;5;241m.\u001b[39mtoolbar\u001b[38;5;241m.\u001b[39m_wait_cursor_for_draw_cm() \u001b[38;5;28;01mif\u001b[39;00m \u001b[38;5;28mself\u001b[39m\u001b[38;5;241m.\u001b[39mtoolbar\n\u001b[1;32m    399\u001b[0m       \u001b[38;5;28;01melse\u001b[39;00m nullcontext()):\n\u001b[0;32m--> 400\u001b[0m     \u001b[38;5;28;43mself\u001b[39;49m\u001b[38;5;241;43m.\u001b[39;49m\u001b[43mfigure\u001b[49m\u001b[38;5;241;43m.\u001b[39;49m\u001b[43mdraw\u001b[49m\u001b[43m(\u001b[49m\u001b[38;5;28;43mself\u001b[39;49m\u001b[38;5;241;43m.\u001b[39;49m\u001b[43mrenderer\u001b[49m\u001b[43m)\u001b[49m\n\u001b[1;32m    401\u001b[0m     \u001b[38;5;66;03m# A GUI class may be need to update a window using this draw, so\u001b[39;00m\n\u001b[1;32m    402\u001b[0m     \u001b[38;5;66;03m# don't forget to call the superclass.\u001b[39;00m\n\u001b[1;32m    403\u001b[0m     \u001b[38;5;28msuper\u001b[39m()\u001b[38;5;241m.\u001b[39mdraw()\n",
      "File \u001b[0;32m/usr/local/lib/python3.8/dist-packages/matplotlib/artist.py:95\u001b[0m, in \u001b[0;36m_finalize_rasterization.<locals>.draw_wrapper\u001b[0;34m(artist, renderer, *args, **kwargs)\u001b[0m\n\u001b[1;32m     93\u001b[0m \u001b[38;5;129m@wraps\u001b[39m(draw)\n\u001b[1;32m     94\u001b[0m \u001b[38;5;28;01mdef\u001b[39;00m \u001b[38;5;21mdraw_wrapper\u001b[39m(artist, renderer, \u001b[38;5;241m*\u001b[39margs, \u001b[38;5;241m*\u001b[39m\u001b[38;5;241m*\u001b[39mkwargs):\n\u001b[0;32m---> 95\u001b[0m     result \u001b[38;5;241m=\u001b[39m \u001b[43mdraw\u001b[49m\u001b[43m(\u001b[49m\u001b[43martist\u001b[49m\u001b[43m,\u001b[49m\u001b[43m \u001b[49m\u001b[43mrenderer\u001b[49m\u001b[43m,\u001b[49m\u001b[43m \u001b[49m\u001b[38;5;241;43m*\u001b[39;49m\u001b[43margs\u001b[49m\u001b[43m,\u001b[49m\u001b[43m \u001b[49m\u001b[38;5;241;43m*\u001b[39;49m\u001b[38;5;241;43m*\u001b[39;49m\u001b[43mkwargs\u001b[49m\u001b[43m)\u001b[49m\n\u001b[1;32m     96\u001b[0m     \u001b[38;5;28;01mif\u001b[39;00m renderer\u001b[38;5;241m.\u001b[39m_rasterizing:\n\u001b[1;32m     97\u001b[0m         renderer\u001b[38;5;241m.\u001b[39mstop_rasterizing()\n",
      "File \u001b[0;32m/usr/local/lib/python3.8/dist-packages/matplotlib/artist.py:72\u001b[0m, in \u001b[0;36mallow_rasterization.<locals>.draw_wrapper\u001b[0;34m(artist, renderer)\u001b[0m\n\u001b[1;32m     69\u001b[0m     \u001b[38;5;28;01mif\u001b[39;00m artist\u001b[38;5;241m.\u001b[39mget_agg_filter() \u001b[38;5;129;01mis\u001b[39;00m \u001b[38;5;129;01mnot\u001b[39;00m \u001b[38;5;28;01mNone\u001b[39;00m:\n\u001b[1;32m     70\u001b[0m         renderer\u001b[38;5;241m.\u001b[39mstart_filter()\n\u001b[0;32m---> 72\u001b[0m     \u001b[38;5;28;01mreturn\u001b[39;00m \u001b[43mdraw\u001b[49m\u001b[43m(\u001b[49m\u001b[43martist\u001b[49m\u001b[43m,\u001b[49m\u001b[43m \u001b[49m\u001b[43mrenderer\u001b[49m\u001b[43m)\u001b[49m\n\u001b[1;32m     73\u001b[0m \u001b[38;5;28;01mfinally\u001b[39;00m:\n\u001b[1;32m     74\u001b[0m     \u001b[38;5;28;01mif\u001b[39;00m artist\u001b[38;5;241m.\u001b[39mget_agg_filter() \u001b[38;5;129;01mis\u001b[39;00m \u001b[38;5;129;01mnot\u001b[39;00m \u001b[38;5;28;01mNone\u001b[39;00m:\n",
      "File \u001b[0;32m/usr/local/lib/python3.8/dist-packages/matplotlib/figure.py:3175\u001b[0m, in \u001b[0;36mFigure.draw\u001b[0;34m(self, renderer)\u001b[0m\n\u001b[1;32m   3172\u001b[0m         \u001b[38;5;66;03m# ValueError can occur when resizing a window.\u001b[39;00m\n\u001b[1;32m   3174\u001b[0m \u001b[38;5;28mself\u001b[39m\u001b[38;5;241m.\u001b[39mpatch\u001b[38;5;241m.\u001b[39mdraw(renderer)\n\u001b[0;32m-> 3175\u001b[0m \u001b[43mmimage\u001b[49m\u001b[38;5;241;43m.\u001b[39;49m\u001b[43m_draw_list_compositing_images\u001b[49m\u001b[43m(\u001b[49m\n\u001b[1;32m   3176\u001b[0m \u001b[43m    \u001b[49m\u001b[43mrenderer\u001b[49m\u001b[43m,\u001b[49m\u001b[43m \u001b[49m\u001b[38;5;28;43mself\u001b[39;49m\u001b[43m,\u001b[49m\u001b[43m \u001b[49m\u001b[43martists\u001b[49m\u001b[43m,\u001b[49m\u001b[43m \u001b[49m\u001b[38;5;28;43mself\u001b[39;49m\u001b[38;5;241;43m.\u001b[39;49m\u001b[43msuppressComposite\u001b[49m\u001b[43m)\u001b[49m\n\u001b[1;32m   3178\u001b[0m \u001b[38;5;28;01mfor\u001b[39;00m sfig \u001b[38;5;129;01min\u001b[39;00m \u001b[38;5;28mself\u001b[39m\u001b[38;5;241m.\u001b[39msubfigs:\n\u001b[1;32m   3179\u001b[0m     sfig\u001b[38;5;241m.\u001b[39mdraw(renderer)\n",
      "File \u001b[0;32m/usr/local/lib/python3.8/dist-packages/matplotlib/image.py:131\u001b[0m, in \u001b[0;36m_draw_list_compositing_images\u001b[0;34m(renderer, parent, artists, suppress_composite)\u001b[0m\n\u001b[1;32m    129\u001b[0m \u001b[38;5;28;01mif\u001b[39;00m not_composite \u001b[38;5;129;01mor\u001b[39;00m \u001b[38;5;129;01mnot\u001b[39;00m has_images:\n\u001b[1;32m    130\u001b[0m     \u001b[38;5;28;01mfor\u001b[39;00m a \u001b[38;5;129;01min\u001b[39;00m artists:\n\u001b[0;32m--> 131\u001b[0m         \u001b[43ma\u001b[49m\u001b[38;5;241;43m.\u001b[39;49m\u001b[43mdraw\u001b[49m\u001b[43m(\u001b[49m\u001b[43mrenderer\u001b[49m\u001b[43m)\u001b[49m\n\u001b[1;32m    132\u001b[0m \u001b[38;5;28;01melse\u001b[39;00m:\n\u001b[1;32m    133\u001b[0m     \u001b[38;5;66;03m# Composite any adjacent images together\u001b[39;00m\n\u001b[1;32m    134\u001b[0m     image_group \u001b[38;5;241m=\u001b[39m []\n",
      "File \u001b[0;32m/usr/local/lib/python3.8/dist-packages/matplotlib/artist.py:72\u001b[0m, in \u001b[0;36mallow_rasterization.<locals>.draw_wrapper\u001b[0;34m(artist, renderer)\u001b[0m\n\u001b[1;32m     69\u001b[0m     \u001b[38;5;28;01mif\u001b[39;00m artist\u001b[38;5;241m.\u001b[39mget_agg_filter() \u001b[38;5;129;01mis\u001b[39;00m \u001b[38;5;129;01mnot\u001b[39;00m \u001b[38;5;28;01mNone\u001b[39;00m:\n\u001b[1;32m     70\u001b[0m         renderer\u001b[38;5;241m.\u001b[39mstart_filter()\n\u001b[0;32m---> 72\u001b[0m     \u001b[38;5;28;01mreturn\u001b[39;00m \u001b[43mdraw\u001b[49m\u001b[43m(\u001b[49m\u001b[43martist\u001b[49m\u001b[43m,\u001b[49m\u001b[43m \u001b[49m\u001b[43mrenderer\u001b[49m\u001b[43m)\u001b[49m\n\u001b[1;32m     73\u001b[0m \u001b[38;5;28;01mfinally\u001b[39;00m:\n\u001b[1;32m     74\u001b[0m     \u001b[38;5;28;01mif\u001b[39;00m artist\u001b[38;5;241m.\u001b[39mget_agg_filter() \u001b[38;5;129;01mis\u001b[39;00m \u001b[38;5;129;01mnot\u001b[39;00m \u001b[38;5;28;01mNone\u001b[39;00m:\n",
      "File \u001b[0;32m/usr/local/lib/python3.8/dist-packages/matplotlib/axes/_base.py:3064\u001b[0m, in \u001b[0;36m_AxesBase.draw\u001b[0;34m(self, renderer)\u001b[0m\n\u001b[1;32m   3061\u001b[0m \u001b[38;5;28;01mif\u001b[39;00m artists_rasterized:\n\u001b[1;32m   3062\u001b[0m     _draw_rasterized(\u001b[38;5;28mself\u001b[39m\u001b[38;5;241m.\u001b[39mfigure, artists_rasterized, renderer)\n\u001b[0;32m-> 3064\u001b[0m \u001b[43mmimage\u001b[49m\u001b[38;5;241;43m.\u001b[39;49m\u001b[43m_draw_list_compositing_images\u001b[49m\u001b[43m(\u001b[49m\n\u001b[1;32m   3065\u001b[0m \u001b[43m    \u001b[49m\u001b[43mrenderer\u001b[49m\u001b[43m,\u001b[49m\u001b[43m \u001b[49m\u001b[38;5;28;43mself\u001b[39;49m\u001b[43m,\u001b[49m\u001b[43m \u001b[49m\u001b[43martists\u001b[49m\u001b[43m,\u001b[49m\u001b[43m \u001b[49m\u001b[38;5;28;43mself\u001b[39;49m\u001b[38;5;241;43m.\u001b[39;49m\u001b[43mfigure\u001b[49m\u001b[38;5;241;43m.\u001b[39;49m\u001b[43msuppressComposite\u001b[49m\u001b[43m)\u001b[49m\n\u001b[1;32m   3067\u001b[0m renderer\u001b[38;5;241m.\u001b[39mclose_group(\u001b[38;5;124m'\u001b[39m\u001b[38;5;124maxes\u001b[39m\u001b[38;5;124m'\u001b[39m)\n\u001b[1;32m   3068\u001b[0m \u001b[38;5;28mself\u001b[39m\u001b[38;5;241m.\u001b[39mstale \u001b[38;5;241m=\u001b[39m \u001b[38;5;28;01mFalse\u001b[39;00m\n",
      "File \u001b[0;32m/usr/local/lib/python3.8/dist-packages/matplotlib/image.py:131\u001b[0m, in \u001b[0;36m_draw_list_compositing_images\u001b[0;34m(renderer, parent, artists, suppress_composite)\u001b[0m\n\u001b[1;32m    129\u001b[0m \u001b[38;5;28;01mif\u001b[39;00m not_composite \u001b[38;5;129;01mor\u001b[39;00m \u001b[38;5;129;01mnot\u001b[39;00m has_images:\n\u001b[1;32m    130\u001b[0m     \u001b[38;5;28;01mfor\u001b[39;00m a \u001b[38;5;129;01min\u001b[39;00m artists:\n\u001b[0;32m--> 131\u001b[0m         \u001b[43ma\u001b[49m\u001b[38;5;241;43m.\u001b[39;49m\u001b[43mdraw\u001b[49m\u001b[43m(\u001b[49m\u001b[43mrenderer\u001b[49m\u001b[43m)\u001b[49m\n\u001b[1;32m    132\u001b[0m \u001b[38;5;28;01melse\u001b[39;00m:\n\u001b[1;32m    133\u001b[0m     \u001b[38;5;66;03m# Composite any adjacent images together\u001b[39;00m\n\u001b[1;32m    134\u001b[0m     image_group \u001b[38;5;241m=\u001b[39m []\n",
      "File \u001b[0;32m/usr/local/lib/python3.8/dist-packages/matplotlib/artist.py:72\u001b[0m, in \u001b[0;36mallow_rasterization.<locals>.draw_wrapper\u001b[0;34m(artist, renderer)\u001b[0m\n\u001b[1;32m     69\u001b[0m     \u001b[38;5;28;01mif\u001b[39;00m artist\u001b[38;5;241m.\u001b[39mget_agg_filter() \u001b[38;5;129;01mis\u001b[39;00m \u001b[38;5;129;01mnot\u001b[39;00m \u001b[38;5;28;01mNone\u001b[39;00m:\n\u001b[1;32m     70\u001b[0m         renderer\u001b[38;5;241m.\u001b[39mstart_filter()\n\u001b[0;32m---> 72\u001b[0m     \u001b[38;5;28;01mreturn\u001b[39;00m \u001b[43mdraw\u001b[49m\u001b[43m(\u001b[49m\u001b[43martist\u001b[49m\u001b[43m,\u001b[49m\u001b[43m \u001b[49m\u001b[43mrenderer\u001b[49m\u001b[43m)\u001b[49m\n\u001b[1;32m     73\u001b[0m \u001b[38;5;28;01mfinally\u001b[39;00m:\n\u001b[1;32m     74\u001b[0m     \u001b[38;5;28;01mif\u001b[39;00m artist\u001b[38;5;241m.\u001b[39mget_agg_filter() \u001b[38;5;129;01mis\u001b[39;00m \u001b[38;5;129;01mnot\u001b[39;00m \u001b[38;5;28;01mNone\u001b[39;00m:\n",
      "File \u001b[0;32m/usr/local/lib/python3.8/dist-packages/matplotlib/image.py:641\u001b[0m, in \u001b[0;36m_ImageBase.draw\u001b[0;34m(self, renderer, *args, **kwargs)\u001b[0m\n\u001b[1;32m    639\u001b[0m         renderer\u001b[38;5;241m.\u001b[39mdraw_image(gc, l, b, im, trans)\n\u001b[1;32m    640\u001b[0m \u001b[38;5;28;01melse\u001b[39;00m:\n\u001b[0;32m--> 641\u001b[0m     im, l, b, trans \u001b[38;5;241m=\u001b[39m \u001b[38;5;28;43mself\u001b[39;49m\u001b[38;5;241;43m.\u001b[39;49m\u001b[43mmake_image\u001b[49m\u001b[43m(\u001b[49m\n\u001b[1;32m    642\u001b[0m \u001b[43m        \u001b[49m\u001b[43mrenderer\u001b[49m\u001b[43m,\u001b[49m\u001b[43m \u001b[49m\u001b[43mrenderer\u001b[49m\u001b[38;5;241;43m.\u001b[39;49m\u001b[43mget_image_magnification\u001b[49m\u001b[43m(\u001b[49m\u001b[43m)\u001b[49m\u001b[43m)\u001b[49m\n\u001b[1;32m    643\u001b[0m     \u001b[38;5;28;01mif\u001b[39;00m im \u001b[38;5;129;01mis\u001b[39;00m \u001b[38;5;129;01mnot\u001b[39;00m \u001b[38;5;28;01mNone\u001b[39;00m:\n\u001b[1;32m    644\u001b[0m         renderer\u001b[38;5;241m.\u001b[39mdraw_image(gc, l, b, im)\n",
      "File \u001b[0;32m/usr/local/lib/python3.8/dist-packages/matplotlib/image.py:949\u001b[0m, in \u001b[0;36mAxesImage.make_image\u001b[0;34m(self, renderer, magnification, unsampled)\u001b[0m\n\u001b[1;32m    946\u001b[0m transformed_bbox \u001b[38;5;241m=\u001b[39m TransformedBbox(bbox, trans)\n\u001b[1;32m    947\u001b[0m clip \u001b[38;5;241m=\u001b[39m ((\u001b[38;5;28mself\u001b[39m\u001b[38;5;241m.\u001b[39mget_clip_box() \u001b[38;5;129;01mor\u001b[39;00m \u001b[38;5;28mself\u001b[39m\u001b[38;5;241m.\u001b[39maxes\u001b[38;5;241m.\u001b[39mbbox) \u001b[38;5;28;01mif\u001b[39;00m \u001b[38;5;28mself\u001b[39m\u001b[38;5;241m.\u001b[39mget_clip_on()\n\u001b[1;32m    948\u001b[0m         \u001b[38;5;28;01melse\u001b[39;00m \u001b[38;5;28mself\u001b[39m\u001b[38;5;241m.\u001b[39mfigure\u001b[38;5;241m.\u001b[39mbbox)\n\u001b[0;32m--> 949\u001b[0m \u001b[38;5;28;01mreturn\u001b[39;00m \u001b[38;5;28;43mself\u001b[39;49m\u001b[38;5;241;43m.\u001b[39;49m\u001b[43m_make_image\u001b[49m\u001b[43m(\u001b[49m\u001b[38;5;28;43mself\u001b[39;49m\u001b[38;5;241;43m.\u001b[39;49m\u001b[43m_A\u001b[49m\u001b[43m,\u001b[49m\u001b[43m \u001b[49m\u001b[43mbbox\u001b[49m\u001b[43m,\u001b[49m\u001b[43m \u001b[49m\u001b[43mtransformed_bbox\u001b[49m\u001b[43m,\u001b[49m\u001b[43m \u001b[49m\u001b[43mclip\u001b[49m\u001b[43m,\u001b[49m\n\u001b[1;32m    950\u001b[0m \u001b[43m                        \u001b[49m\u001b[43mmagnification\u001b[49m\u001b[43m,\u001b[49m\u001b[43m \u001b[49m\u001b[43munsampled\u001b[49m\u001b[38;5;241;43m=\u001b[39;49m\u001b[43munsampled\u001b[49m\u001b[43m)\u001b[49m\n",
      "File \u001b[0;32m/usr/local/lib/python3.8/dist-packages/matplotlib/image.py:553\u001b[0m, in \u001b[0;36m_ImageBase._make_image\u001b[0;34m(self, A, in_bbox, out_bbox, clip_bbox, magnification, unsampled, round_to_pixel_border)\u001b[0m\n\u001b[1;32m    551\u001b[0m     A \u001b[38;5;241m=\u001b[39m _rgb_to_rgba(A)\n\u001b[1;32m    552\u001b[0m alpha \u001b[38;5;241m=\u001b[39m \u001b[38;5;28mself\u001b[39m\u001b[38;5;241m.\u001b[39m_get_scalar_alpha()\n\u001b[0;32m--> 553\u001b[0m output_alpha \u001b[38;5;241m=\u001b[39m \u001b[43m_resample\u001b[49m\u001b[43m(\u001b[49m\u001b[43m  \u001b[49m\u001b[38;5;66;43;03m# resample alpha channel\u001b[39;49;00m\n\u001b[1;32m    554\u001b[0m \u001b[43m    \u001b[49m\u001b[38;5;28;43mself\u001b[39;49m\u001b[43m,\u001b[49m\u001b[43m \u001b[49m\u001b[43mA\u001b[49m\u001b[43m[\u001b[49m\u001b[38;5;241;43m.\u001b[39;49m\u001b[38;5;241;43m.\u001b[39;49m\u001b[38;5;241;43m.\u001b[39;49m\u001b[43m,\u001b[49m\u001b[43m \u001b[49m\u001b[38;5;241;43m3\u001b[39;49m\u001b[43m]\u001b[49m\u001b[43m,\u001b[49m\u001b[43m \u001b[49m\u001b[43mout_shape\u001b[49m\u001b[43m,\u001b[49m\u001b[43m \u001b[49m\u001b[43mt\u001b[49m\u001b[43m,\u001b[49m\u001b[43m \u001b[49m\u001b[43malpha\u001b[49m\u001b[38;5;241;43m=\u001b[39;49m\u001b[43malpha\u001b[49m\u001b[43m)\u001b[49m\n\u001b[1;32m    555\u001b[0m output \u001b[38;5;241m=\u001b[39m _resample(  \u001b[38;5;66;03m# resample rgb channels\u001b[39;00m\n\u001b[1;32m    556\u001b[0m     \u001b[38;5;28mself\u001b[39m, _rgb_to_rgba(A[\u001b[38;5;241m.\u001b[39m\u001b[38;5;241m.\u001b[39m\u001b[38;5;241m.\u001b[39m, :\u001b[38;5;241m3\u001b[39m]), out_shape, t, alpha\u001b[38;5;241m=\u001b[39malpha)\n\u001b[1;32m    557\u001b[0m output[\u001b[38;5;241m.\u001b[39m\u001b[38;5;241m.\u001b[39m\u001b[38;5;241m.\u001b[39m, \u001b[38;5;241m3\u001b[39m] \u001b[38;5;241m=\u001b[39m output_alpha  \u001b[38;5;66;03m# recombine rgb and alpha\u001b[39;00m\n",
      "File \u001b[0;32m/usr/local/lib/python3.8/dist-packages/matplotlib/image.py:207\u001b[0m, in \u001b[0;36m_resample\u001b[0;34m(image_obj, data, out_shape, transform, resample, alpha)\u001b[0m\n\u001b[1;32m    205\u001b[0m \u001b[38;5;28;01mif\u001b[39;00m resample \u001b[38;5;129;01mis\u001b[39;00m \u001b[38;5;28;01mNone\u001b[39;00m:\n\u001b[1;32m    206\u001b[0m     resample \u001b[38;5;241m=\u001b[39m image_obj\u001b[38;5;241m.\u001b[39mget_resample()\n\u001b[0;32m--> 207\u001b[0m \u001b[43m_image\u001b[49m\u001b[38;5;241;43m.\u001b[39;49m\u001b[43mresample\u001b[49m\u001b[43m(\u001b[49m\u001b[43mdata\u001b[49m\u001b[43m,\u001b[49m\u001b[43m \u001b[49m\u001b[43mout\u001b[49m\u001b[43m,\u001b[49m\u001b[43m \u001b[49m\u001b[43mtransform\u001b[49m\u001b[43m,\u001b[49m\n\u001b[1;32m    208\u001b[0m \u001b[43m                \u001b[49m\u001b[43m_interpd_\u001b[49m\u001b[43m[\u001b[49m\u001b[43minterpolation\u001b[49m\u001b[43m]\u001b[49m\u001b[43m,\u001b[49m\n\u001b[1;32m    209\u001b[0m \u001b[43m                \u001b[49m\u001b[43mresample\u001b[49m\u001b[43m,\u001b[49m\n\u001b[1;32m    210\u001b[0m \u001b[43m                \u001b[49m\u001b[43malpha\u001b[49m\u001b[43m,\u001b[49m\n\u001b[1;32m    211\u001b[0m \u001b[43m                \u001b[49m\u001b[43mimage_obj\u001b[49m\u001b[38;5;241;43m.\u001b[39;49m\u001b[43mget_filternorm\u001b[49m\u001b[43m(\u001b[49m\u001b[43m)\u001b[49m\u001b[43m,\u001b[49m\n\u001b[1;32m    212\u001b[0m \u001b[43m                \u001b[49m\u001b[43mimage_obj\u001b[49m\u001b[38;5;241;43m.\u001b[39;49m\u001b[43mget_filterrad\u001b[49m\u001b[43m(\u001b[49m\u001b[43m)\u001b[49m\u001b[43m)\u001b[49m\n\u001b[1;32m    213\u001b[0m \u001b[38;5;28;01mreturn\u001b[39;00m out\n",
      "File \u001b[0;32m/usr/local/lib/python3.8/dist-packages/matplotlib/transforms.py:2413\u001b[0m, in \u001b[0;36mCompositeGenericTransform.<lambda>\u001b[0;34m(self)\u001b[0m\n\u001b[1;32m   2410\u001b[0m         \u001b[38;5;28;01myield\u001b[39;00m \u001b[38;5;28mself\u001b[39m\u001b[38;5;241m.\u001b[39m_a \u001b[38;5;241m+\u001b[39m left, right\n\u001b[1;32m   2412\u001b[0m depth \u001b[38;5;241m=\u001b[39m \u001b[38;5;28mproperty\u001b[39m(\u001b[38;5;28;01mlambda\u001b[39;00m \u001b[38;5;28mself\u001b[39m: \u001b[38;5;28mself\u001b[39m\u001b[38;5;241m.\u001b[39m_a\u001b[38;5;241m.\u001b[39mdepth \u001b[38;5;241m+\u001b[39m \u001b[38;5;28mself\u001b[39m\u001b[38;5;241m.\u001b[39m_b\u001b[38;5;241m.\u001b[39mdepth)\n\u001b[0;32m-> 2413\u001b[0m is_affine \u001b[38;5;241m=\u001b[39m \u001b[38;5;28mproperty\u001b[39m(\u001b[38;5;28;01mlambda\u001b[39;00m \u001b[38;5;28mself\u001b[39m: \u001b[38;5;28mself\u001b[39m\u001b[38;5;241m.\u001b[39m_a\u001b[38;5;241m.\u001b[39mis_affine \u001b[38;5;129;01mand\u001b[39;00m \u001b[38;5;28mself\u001b[39m\u001b[38;5;241m.\u001b[39m_b\u001b[38;5;241m.\u001b[39mis_affine)\n\u001b[1;32m   2414\u001b[0m is_separable \u001b[38;5;241m=\u001b[39m \u001b[38;5;28mproperty\u001b[39m(\n\u001b[1;32m   2415\u001b[0m     \u001b[38;5;28;01mlambda\u001b[39;00m \u001b[38;5;28mself\u001b[39m: \u001b[38;5;28mself\u001b[39m\u001b[38;5;241m.\u001b[39m_a\u001b[38;5;241m.\u001b[39mis_separable \u001b[38;5;129;01mand\u001b[39;00m \u001b[38;5;28mself\u001b[39m\u001b[38;5;241m.\u001b[39m_b\u001b[38;5;241m.\u001b[39mis_separable)\n\u001b[1;32m   2416\u001b[0m has_inverse \u001b[38;5;241m=\u001b[39m \u001b[38;5;28mproperty\u001b[39m(\n\u001b[1;32m   2417\u001b[0m     \u001b[38;5;28;01mlambda\u001b[39;00m \u001b[38;5;28mself\u001b[39m: \u001b[38;5;28mself\u001b[39m\u001b[38;5;241m.\u001b[39m_a\u001b[38;5;241m.\u001b[39mhas_inverse \u001b[38;5;129;01mand\u001b[39;00m \u001b[38;5;28mself\u001b[39m\u001b[38;5;241m.\u001b[39m_b\u001b[38;5;241m.\u001b[39mhas_inverse)\n",
      "\u001b[0;31mKeyboardInterrupt\u001b[0m: "
     ]
    }
   ],
   "source": [
    "agent.evaluate(n_episode = n_episode, eval_seeds = eval_seeds, render = True, videos_limit = videos_limit, videos_dir = videos_dir, run_name = run_name, run_type =run_type )"
   ]
  },
  {
   "cell_type": "code",
   "execution_count": null,
   "metadata": {},
   "outputs": [],
   "source": []
  },
  {
   "cell_type": "code",
   "execution_count": null,
   "metadata": {},
   "outputs": [],
   "source": []
  },
  {
   "cell_type": "code",
   "execution_count": null,
   "metadata": {},
   "outputs": [],
   "source": []
  },
  {
   "cell_type": "code",
   "execution_count": null,
   "metadata": {},
   "outputs": [],
   "source": []
  },
  {
   "cell_type": "code",
   "execution_count": null,
   "metadata": {},
   "outputs": [],
   "source": []
  },
  {
   "cell_type": "code",
   "execution_count": null,
   "metadata": {},
   "outputs": [],
   "source": []
  },
  {
   "cell_type": "code",
   "execution_count": 18,
   "metadata": {},
   "outputs": [
    {
     "name": "stdout",
     "output_type": "stream",
     "text": [
      "../../checkpoints/MinigridMemory/MinigridMemory/DTQN/DTQN_MinigridMemory_LONG_TERM_static/2024_09_28-18_45_11.pt\n"
     ]
    }
   ],
   "source": [
    "import os \n",
    "import time\n",
    "start_timestamp = time.strftime(\"%Y_%m_%d-%H_%M_%S\")\n",
    "\n",
    "print(os.path.join('../../checkpoints', args['log_name'], start_timestamp + '.pt'))\n"
   ]
  },
  {
   "cell_type": "code",
   "execution_count": 19,
   "metadata": {},
   "outputs": [],
   "source": [
    "timestamp = time.strftime(\"/%Y_%m_%d-%H_%M_%S\" + \"/\")"
   ]
  },
  {
   "cell_type": "code",
   "execution_count": 21,
   "metadata": {},
   "outputs": [
    {
     "data": {
      "text/plain": [
       "'2024_09_28-18_51_52'"
      ]
     },
     "execution_count": 21,
     "metadata": {},
     "output_type": "execute_result"
    }
   ],
   "source": [
    "timestamp.strip('/')"
   ]
  },
  {
   "cell_type": "code",
   "execution_count": null,
   "metadata": {},
   "outputs": [],
   "source": []
  }
 ],
 "metadata": {
  "kernelspec": {
   "display_name": "Python 3",
   "language": "python",
   "name": "python3"
  },
  "language_info": {
   "codemirror_mode": {
    "name": "ipython",
    "version": 3
   },
   "file_extension": ".py",
   "mimetype": "text/x-python",
   "name": "python",
   "nbconvert_exporter": "python",
   "pygments_lexer": "ipython3",
   "version": "3.8.10"
  }
 },
 "nbformat": 4,
 "nbformat_minor": 2
}
